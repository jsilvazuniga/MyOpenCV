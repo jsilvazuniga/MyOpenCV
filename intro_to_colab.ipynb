{
  "nbformat": 4,
  "nbformat_minor": 0,
  "metadata": {
    "colab": {
      "provenance": [],
      "gpuType": "T4",
      "authorship_tag": "ABX9TyPSzNNNnxqIPApJYVQbE35b",
      "include_colab_link": true
    },
    "kernelspec": {
      "name": "python3",
      "display_name": "Python 3"
    },
    "language_info": {
      "name": "python"
    },
    "accelerator": "GPU"
  },
  "cells": [
    {
      "cell_type": "markdown",
      "metadata": {
        "id": "view-in-github",
        "colab_type": "text"
      },
      "source": [
        "<a href=\"https://colab.research.google.com/github/jsilvazuniga/MyOpenCV/blob/main/intro_to_colab.ipynb\" target=\"_parent\"><img src=\"https://colab.research.google.com/assets/colab-badge.svg\" alt=\"Open In Colab\"/></a>"
      ]
    },
    {
      "cell_type": "code",
      "execution_count": 1,
      "metadata": {
        "id": "KnCZzDjBNNLg",
        "colab": {
          "base_uri": "https://localhost:8080/"
        },
        "outputId": "79dc9624-5b38-43ab-e799-f19e647d2db4"
      },
      "outputs": [
        {
          "output_type": "stream",
          "name": "stdout",
          "text": [
            "4.8.0\n",
            "2.14.0\n"
          ]
        }
      ],
      "source": [
        "import numpy as np\n",
        "import keras\n",
        "import tensorflow\n",
        "import cv2\n",
        "import matplotlib.pyplot as pit\n",
        "\n",
        "print(cv2.__version__)\n",
        "print(keras.__version__)\n"
      ]
    },
    {
      "cell_type": "code",
      "source": [
        "!pip install opencv-contrib-python"
      ],
      "metadata": {
        "colab": {
          "base_uri": "https://localhost:8080/"
        },
        "id": "Fq7z8Tw8O_A8",
        "outputId": "2a89baa5-a60d-4654-f670-d04741b6e2b6"
      },
      "execution_count": 2,
      "outputs": [
        {
          "output_type": "stream",
          "name": "stdout",
          "text": [
            "Requirement already satisfied: opencv-contrib-python in /usr/local/lib/python3.10/dist-packages (4.8.0.76)\n",
            "Requirement already satisfied: numpy>=1.21.2 in /usr/local/lib/python3.10/dist-packages (from opencv-contrib-python) (1.23.5)\n"
          ]
        }
      ]
    },
    {
      "cell_type": "code",
      "source": [
        "%%shell\n",
        "sudo apt update\n",
        "sudo apt upgrade"
      ],
      "metadata": {
        "colab": {
          "base_uri": "https://localhost:8080/"
        },
        "id": "6bMd6PfASYOo",
        "outputId": "2cea93cd-a085-4143-f323-9f3ecfb300ca"
      },
      "execution_count": 4,
      "outputs": [
        {
          "output_type": "stream",
          "name": "stdout",
          "text": [
            "\u001b[33m\r0% [Working]\u001b[0m\r            \rGet:1 https://cloud.r-project.org/bin/linux/ubuntu jammy-cran40/ InRelease [3,626 B]\n",
            "Hit:2 https://developer.download.nvidia.com/compute/cuda/repos/ubuntu2204/x86_64  InRelease\n",
            "Get:3 http://security.ubuntu.com/ubuntu jammy-security InRelease [110 kB]\n",
            "Get:4 https://cloud.r-project.org/bin/linux/ubuntu jammy-cran40/ Packages [46.6 kB]\n",
            "Hit:5 http://archive.ubuntu.com/ubuntu jammy InRelease\n",
            "Get:6 http://archive.ubuntu.com/ubuntu jammy-updates InRelease [119 kB]\n",
            "Get:7 https://ppa.launchpadcontent.net/c2d4u.team/c2d4u4.0+/ubuntu jammy InRelease [18.1 kB]\n",
            "Get:8 http://security.ubuntu.com/ubuntu jammy-security/main amd64 Packages [1,186 kB]\n",
            "Get:9 http://archive.ubuntu.com/ubuntu jammy-backports InRelease [109 kB]\n",
            "Hit:10 https://ppa.launchpadcontent.net/deadsnakes/ppa/ubuntu jammy InRelease\n",
            "Get:11 http://archive.ubuntu.com/ubuntu jammy-updates/main amd64 Packages [1,455 kB]\n",
            "Get:12 http://security.ubuntu.com/ubuntu jammy-security/universe amd64 Packages [1,013 kB]\n",
            "Get:13 http://archive.ubuntu.com/ubuntu jammy-updates/multiverse amd64 Packages [49.8 kB]\n",
            "Get:14 http://archive.ubuntu.com/ubuntu jammy-updates/restricted amd64 Packages [1,419 kB]\n",
            "Hit:15 https://ppa.launchpadcontent.net/graphics-drivers/ppa/ubuntu jammy InRelease\n",
            "Get:16 http://archive.ubuntu.com/ubuntu jammy-updates/universe amd64 Packages [1,279 kB]\n",
            "Hit:17 https://ppa.launchpadcontent.net/ubuntugis/ppa/ubuntu jammy InRelease\n",
            "Get:18 https://ppa.launchpadcontent.net/c2d4u.team/c2d4u4.0+/ubuntu jammy/main Sources [2,231 kB]\n",
            "Get:19 https://ppa.launchpadcontent.net/c2d4u.team/c2d4u4.0+/ubuntu jammy/main amd64 Packages [1,145 kB]\n",
            "Fetched 10.2 MB in 5s (2,185 kB/s)\n",
            "Reading package lists... Done\n",
            "Building dependency tree... Done\n",
            "Reading state information... Done\n",
            "34 packages can be upgraded. Run 'apt list --upgradable' to see them.\n",
            "Reading package lists... Done\n",
            "Building dependency tree... Done\n",
            "Reading state information... Done\n",
            "Calculating upgrade... Done\n",
            "The following packages have been kept back:\n",
            "  libcudnn8 libcudnn8-dev libnccl-dev libnccl2\n",
            "The following packages will be upgraded:\n",
            "  base-files binutils binutils-common binutils-x86-64-linux-gnu cuda-keyring\n",
            "  cuda-toolkit-config-common krb5-multidev libbinutils libc-bin libcap2\n",
            "  libctf-nobfd0 libctf0 libgssapi-krb5-2 libgssrpc4 libk5crypto3\n",
            "  libkadm5clnt-mit12 libkadm5srv-mit12 libkdb5-10 libkrb5-3 libkrb5-dev\n",
            "  libkrb5support0 libldap-2.5-0 libudev1 linux-libc-dev openssl r-base\n",
            "  r-base-core r-base-dev r-cran-utf8 r-recommended\n",
            "30 upgraded, 0 newly installed, 0 to remove and 4 not upgraded.\n",
            "Need to get 35.4 MB of archives.\n",
            "After this operation, 126 kB of additional disk space will be used.\n",
            "Get:1 https://cloud.r-project.org/bin/linux/ubuntu jammy-cran40/ r-base-core 4.3.2-1.2204.0 [27.2 MB]\n",
            "Get:2 https://developer.download.nvidia.com/compute/cuda/repos/ubuntu2204/x86_64  cuda-keyring 1.1-1 [4,332 B]\n",
            "Get:3 https://developer.download.nvidia.com/compute/cuda/repos/ubuntu2204/x86_64  cuda-toolkit-config-common 12.3.52-1 [16.4 kB]\n",
            "Get:4 http://archive.ubuntu.com/ubuntu jammy-updates/main amd64 base-files amd64 12ubuntu4.4 [62.6 kB]\n",
            "Get:5 https://ppa.launchpadcontent.net/c2d4u.team/c2d4u4.0+/ubuntu jammy/main amd64 r-cran-utf8 amd64 1.2.4-1cran1.2204.0 [131 kB]\n",
            "Get:6 https://cloud.r-project.org/bin/linux/ubuntu jammy-cran40/ r-base 4.3.2-1.2204.0 [46.4 kB]\n",
            "Get:7 https://cloud.r-project.org/bin/linux/ubuntu jammy-cran40/ r-recommended 4.3.2-1.2204.0 [2,592 B]\n",
            "Get:8 https://cloud.r-project.org/bin/linux/ubuntu jammy-cran40/ r-base-dev 4.3.2-1.2204.0 [4,292 B]\n",
            "Get:9 http://archive.ubuntu.com/ubuntu jammy-updates/main amd64 libc-bin amd64 2.35-0ubuntu3.4 [706 kB]\n",
            "Get:10 http://archive.ubuntu.com/ubuntu jammy-updates/main amd64 libcap2 amd64 1:2.44-1ubuntu0.22.04.1 [18.3 kB]\n",
            "Get:11 http://archive.ubuntu.com/ubuntu jammy-updates/main amd64 libk5crypto3 amd64 1.19.2-2ubuntu0.3 [86.3 kB]\n",
            "Get:12 http://archive.ubuntu.com/ubuntu jammy-updates/main amd64 libkrb5support0 amd64 1.19.2-2ubuntu0.3 [32.2 kB]\n",
            "Get:13 http://archive.ubuntu.com/ubuntu jammy-updates/main amd64 libkrb5-3 amd64 1.19.2-2ubuntu0.3 [356 kB]\n",
            "Get:14 http://archive.ubuntu.com/ubuntu jammy-updates/main amd64 libgssapi-krb5-2 amd64 1.19.2-2ubuntu0.3 [144 kB]\n",
            "Get:15 http://archive.ubuntu.com/ubuntu jammy-updates/main amd64 libgssrpc4 amd64 1.19.2-2ubuntu0.3 [58.7 kB]\n",
            "Get:16 http://archive.ubuntu.com/ubuntu jammy-updates/main amd64 libkadm5srv-mit12 amd64 1.19.2-2ubuntu0.3 [54.7 kB]\n",
            "Get:17 http://archive.ubuntu.com/ubuntu jammy-updates/main amd64 libkadm5clnt-mit12 amd64 1.19.2-2ubuntu0.3 [41.8 kB]\n",
            "Get:18 http://archive.ubuntu.com/ubuntu jammy-updates/main amd64 libkrb5-dev amd64 1.19.2-2ubuntu0.3 [12.0 kB]\n",
            "Get:19 http://archive.ubuntu.com/ubuntu jammy-updates/main amd64 krb5-multidev amd64 1.19.2-2ubuntu0.3 [125 kB]\n",
            "Get:20 http://archive.ubuntu.com/ubuntu jammy-updates/main amd64 libkdb5-10 amd64 1.19.2-2ubuntu0.3 [40.4 kB]\n",
            "Get:21 http://archive.ubuntu.com/ubuntu jammy-updates/main amd64 libudev1 amd64 249.11-0ubuntu3.11 [78.0 kB]\n",
            "Get:22 http://archive.ubuntu.com/ubuntu jammy-updates/main amd64 openssl amd64 3.0.2-0ubuntu1.12 [1,182 kB]\n",
            "Get:23 http://archive.ubuntu.com/ubuntu jammy-updates/main amd64 libctf0 amd64 2.38-4ubuntu2.3 [103 kB]\n",
            "Get:24 http://archive.ubuntu.com/ubuntu jammy-updates/main amd64 libctf-nobfd0 amd64 2.38-4ubuntu2.3 [107 kB]\n",
            "Get:25 http://archive.ubuntu.com/ubuntu jammy-updates/main amd64 binutils-x86-64-linux-gnu amd64 2.38-4ubuntu2.3 [2,327 kB]\n",
            "Get:26 http://archive.ubuntu.com/ubuntu jammy-updates/main amd64 libbinutils amd64 2.38-4ubuntu2.3 [662 kB]\n",
            "Get:27 http://archive.ubuntu.com/ubuntu jammy-updates/main amd64 binutils amd64 2.38-4ubuntu2.3 [3,190 B]\n",
            "Get:28 http://archive.ubuntu.com/ubuntu jammy-updates/main amd64 binutils-common amd64 2.38-4ubuntu2.3 [222 kB]\n",
            "Get:29 http://archive.ubuntu.com/ubuntu jammy-updates/main amd64 libldap-2.5-0 amd64 2.5.16+dfsg-0ubuntu0.22.04.1 [183 kB]\n",
            "Get:30 http://archive.ubuntu.com/ubuntu jammy-updates/main amd64 linux-libc-dev amd64 5.15.0-88.98 [1,346 kB]\n",
            "Fetched 35.4 MB in 4s (10.0 MB/s)\n",
            "debconf: unable to initialize frontend: Dialog\n",
            "debconf: (No usable dialog-like program is installed, so the dialog based frontend cannot be used. at /usr/share/perl5/Debconf/FrontEnd/Dialog.pm line 78, <> line 30.)\n",
            "debconf: falling back to frontend: Readline\n",
            "debconf: unable to initialize frontend: Readline\n",
            "debconf: (This frontend requires a controlling tty.)\n",
            "debconf: falling back to frontend: Teletype\n",
            "dpkg-preconfigure: unable to re-open stdin: \n",
            "(Reading database ... 120874 files and directories currently installed.)\n",
            "Preparing to unpack .../base-files_12ubuntu4.4_amd64.deb ...\n",
            "Unpacking base-files (12ubuntu4.4) over (12ubuntu4.3) ...\n",
            "Setting up base-files (12ubuntu4.4) ...\n",
            "Installing new version of config file /etc/issue ...\n",
            "Installing new version of config file /etc/issue.net ...\n",
            "Installing new version of config file /etc/lsb-release ...\n",
            "(Reading database ... 120874 files and directories currently installed.)\n",
            "Preparing to unpack .../libc-bin_2.35-0ubuntu3.4_amd64.deb ...\n",
            "Unpacking libc-bin (2.35-0ubuntu3.4) over (2.35-0ubuntu3.1) ...\n",
            "Setting up libc-bin (2.35-0ubuntu3.4) ...\n",
            "/sbin/ldconfig.real: /usr/local/lib/libtbbmalloc.so.2 is not a symbolic link\n",
            "\n",
            "/sbin/ldconfig.real: /usr/local/lib/libtbbbind.so.3 is not a symbolic link\n",
            "\n",
            "/sbin/ldconfig.real: /usr/local/lib/libtbb.so.12 is not a symbolic link\n",
            "\n",
            "/sbin/ldconfig.real: /usr/local/lib/libtbbbind_2_0.so.3 is not a symbolic link\n",
            "\n",
            "/sbin/ldconfig.real: /usr/local/lib/libtbbbind_2_5.so.3 is not a symbolic link\n",
            "\n",
            "/sbin/ldconfig.real: /usr/local/lib/libtbbmalloc_proxy.so.2 is not a symbolic link\n",
            "\n",
            "(Reading database ... 120874 files and directories currently installed.)\n",
            "Preparing to unpack .../libcap2_1%3a2.44-1ubuntu0.22.04.1_amd64.deb ...\n",
            "Unpacking libcap2:amd64 (1:2.44-1ubuntu0.22.04.1) over (1:2.44-1build3) ...\n",
            "Setting up libcap2:amd64 (1:2.44-1ubuntu0.22.04.1) ...\n",
            "(Reading database ... 120874 files and directories currently installed.)\n",
            "Preparing to unpack .../libk5crypto3_1.19.2-2ubuntu0.3_amd64.deb ...\n",
            "Unpacking libk5crypto3:amd64 (1.19.2-2ubuntu0.3) over (1.19.2-2ubuntu0.2) ...\n",
            "Setting up libk5crypto3:amd64 (1.19.2-2ubuntu0.3) ...\n",
            "(Reading database ... 120874 files and directories currently installed.)\n",
            "Preparing to unpack .../libkrb5support0_1.19.2-2ubuntu0.3_amd64.deb ...\n",
            "Unpacking libkrb5support0:amd64 (1.19.2-2ubuntu0.3) over (1.19.2-2ubuntu0.2) ...\n",
            "Setting up libkrb5support0:amd64 (1.19.2-2ubuntu0.3) ...\n",
            "(Reading database ... 120874 files and directories currently installed.)\n",
            "Preparing to unpack .../libkrb5-3_1.19.2-2ubuntu0.3_amd64.deb ...\n",
            "Unpacking libkrb5-3:amd64 (1.19.2-2ubuntu0.3) over (1.19.2-2ubuntu0.2) ...\n",
            "Setting up libkrb5-3:amd64 (1.19.2-2ubuntu0.3) ...\n",
            "(Reading database ... 120874 files and directories currently installed.)\n",
            "Preparing to unpack .../libgssapi-krb5-2_1.19.2-2ubuntu0.3_amd64.deb ...\n",
            "Unpacking libgssapi-krb5-2:amd64 (1.19.2-2ubuntu0.3) over (1.19.2-2ubuntu0.2) ...\n",
            "Setting up libgssapi-krb5-2:amd64 (1.19.2-2ubuntu0.3) ...\n",
            "(Reading database ... 120874 files and directories currently installed.)\n",
            "Preparing to unpack .../0-libgssrpc4_1.19.2-2ubuntu0.3_amd64.deb ...\n",
            "Unpacking libgssrpc4:amd64 (1.19.2-2ubuntu0.3) over (1.19.2-2ubuntu0.2) ...\n",
            "Preparing to unpack .../1-libkadm5srv-mit12_1.19.2-2ubuntu0.3_amd64.deb ...\n",
            "Unpacking libkadm5srv-mit12:amd64 (1.19.2-2ubuntu0.3) over (1.19.2-2ubuntu0.2) ...\n",
            "Preparing to unpack .../2-libkadm5clnt-mit12_1.19.2-2ubuntu0.3_amd64.deb ...\n",
            "Unpacking libkadm5clnt-mit12:amd64 (1.19.2-2ubuntu0.3) over (1.19.2-2ubuntu0.2) ...\n",
            "Preparing to unpack .../3-libkrb5-dev_1.19.2-2ubuntu0.3_amd64.deb ...\n",
            "Unpacking libkrb5-dev:amd64 (1.19.2-2ubuntu0.3) over (1.19.2-2ubuntu0.2) ...\n",
            "Preparing to unpack .../4-krb5-multidev_1.19.2-2ubuntu0.3_amd64.deb ...\n",
            "Unpacking krb5-multidev:amd64 (1.19.2-2ubuntu0.3) over (1.19.2-2ubuntu0.2) ...\n",
            "Preparing to unpack .../5-libkdb5-10_1.19.2-2ubuntu0.3_amd64.deb ...\n",
            "Unpacking libkdb5-10:amd64 (1.19.2-2ubuntu0.3) over (1.19.2-2ubuntu0.2) ...\n",
            "Preparing to unpack .../6-libudev1_249.11-0ubuntu3.11_amd64.deb ...\n",
            "Unpacking libudev1:amd64 (249.11-0ubuntu3.11) over (249.11-0ubuntu3.9) ...\n",
            "Setting up libudev1:amd64 (249.11-0ubuntu3.11) ...\n",
            "(Reading database ... 120874 files and directories currently installed.)\n",
            "Preparing to unpack .../00-openssl_3.0.2-0ubuntu1.12_amd64.deb ...\n",
            "Unpacking openssl (3.0.2-0ubuntu1.12) over (3.0.2-0ubuntu1.10) ...\n",
            "Preparing to unpack .../01-libctf0_2.38-4ubuntu2.3_amd64.deb ...\n",
            "Unpacking libctf0:amd64 (2.38-4ubuntu2.3) over (2.38-4ubuntu2.2) ...\n",
            "Preparing to unpack .../02-libctf-nobfd0_2.38-4ubuntu2.3_amd64.deb ...\n",
            "Unpacking libctf-nobfd0:amd64 (2.38-4ubuntu2.3) over (2.38-4ubuntu2.2) ...\n",
            "Preparing to unpack .../03-binutils-x86-64-linux-gnu_2.38-4ubuntu2.3_amd64.deb ...\n",
            "Unpacking binutils-x86-64-linux-gnu (2.38-4ubuntu2.3) over (2.38-4ubuntu2.2) ...\n",
            "Preparing to unpack .../04-libbinutils_2.38-4ubuntu2.3_amd64.deb ...\n",
            "Unpacking libbinutils:amd64 (2.38-4ubuntu2.3) over (2.38-4ubuntu2.2) ...\n",
            "Preparing to unpack .../05-binutils_2.38-4ubuntu2.3_amd64.deb ...\n",
            "Unpacking binutils (2.38-4ubuntu2.3) over (2.38-4ubuntu2.2) ...\n",
            "Preparing to unpack .../06-binutils-common_2.38-4ubuntu2.3_amd64.deb ...\n",
            "Unpacking binutils-common:amd64 (2.38-4ubuntu2.3) over (2.38-4ubuntu2.2) ...\n",
            "Preparing to unpack .../07-cuda-keyring_1.1-1_all.deb ...\n",
            "Unpacking cuda-keyring (1.1-1) over (1.0-1) ...\n",
            "Preparing to unpack .../08-cuda-toolkit-config-common_12.3.52-1_all.deb ...\n",
            "Unpacking cuda-toolkit-config-common (12.3.52-1) over (12.1.105-1) ...\n",
            "Preparing to unpack .../09-libldap-2.5-0_2.5.16+dfsg-0ubuntu0.22.04.1_amd64.deb ...\n",
            "Unpacking libldap-2.5-0:amd64 (2.5.16+dfsg-0ubuntu0.22.04.1) over (2.5.14+dfsg-0ubuntu0.22.04.2) ...\n",
            "Preparing to unpack .../10-linux-libc-dev_5.15.0-88.98_amd64.deb ...\n",
            "Unpacking linux-libc-dev:amd64 (5.15.0-88.98) over (5.15.0-75.82) ...\n",
            "Preparing to unpack .../11-r-base-core_4.3.2-1.2204.0_amd64.deb ...\n",
            "Unpacking r-base-core (4.3.2-1.2204.0) over (4.3.1-4.2204.0) ...\n",
            "Preparing to unpack .../12-r-base_4.3.2-1.2204.0_all.deb ...\n",
            "Unpacking r-base (4.3.2-1.2204.0) over (4.3.1-4.2204.0) ...\n",
            "Preparing to unpack .../13-r-recommended_4.3.2-1.2204.0_all.deb ...\n",
            "Unpacking r-recommended (4.3.2-1.2204.0) over (4.3.1-4.2204.0) ...\n",
            "Preparing to unpack .../14-r-base-dev_4.3.2-1.2204.0_all.deb ...\n",
            "Unpacking r-base-dev (4.3.2-1.2204.0) over (4.3.1-4.2204.0) ...\n",
            "Preparing to unpack .../15-r-cran-utf8_1.2.4-1cran1.2204.0_amd64.deb ...\n",
            "Unpacking r-cran-utf8 (1.2.4-1cran1.2204.0) over (1.2.3-1cran1.2204.0) ...\n",
            "Setting up cuda-toolkit-config-common (12.3.52-1) ...\n",
            "Setting up binutils-common:amd64 (2.38-4ubuntu2.3) ...\n",
            "Setting up linux-libc-dev:amd64 (5.15.0-88.98) ...\n",
            "Setting up libctf-nobfd0:amd64 (2.38-4ubuntu2.3) ...\n",
            "Setting up libldap-2.5-0:amd64 (2.5.16+dfsg-0ubuntu0.22.04.1) ...\n",
            "Setting up libgssrpc4:amd64 (1.19.2-2ubuntu0.3) ...\n",
            "Setting up cuda-keyring (1.1-1) ...\n",
            "Setting up r-base-core (4.3.2-1.2204.0) ...\n",
            "Installing new version of config file /etc/R/Makeconf ...\n",
            "debconf: unable to initialize frontend: Dialog\n",
            "debconf: (No usable dialog-like program is installed, so the dialog based frontend cannot be used. at /usr/share/perl5/Debconf/FrontEnd/Dialog.pm line 78.)\n",
            "debconf: falling back to frontend: Readline\n",
            "Setting up libbinutils:amd64 (2.38-4ubuntu2.3) ...\n",
            "Setting up openssl (3.0.2-0ubuntu1.12) ...\n",
            "Setting up r-recommended (4.3.2-1.2204.0) ...\n",
            "Setting up libkadm5clnt-mit12:amd64 (1.19.2-2ubuntu0.3) ...\n",
            "Setting up libctf0:amd64 (2.38-4ubuntu2.3) ...\n",
            "Setting up libkdb5-10:amd64 (1.19.2-2ubuntu0.3) ...\n",
            "Setting up r-base-dev (4.3.2-1.2204.0) ...\n",
            "Setting up r-cran-utf8 (1.2.4-1cran1.2204.0) ...\n",
            "Setting up r-base (4.3.2-1.2204.0) ...\n",
            "Setting up libkadm5srv-mit12:amd64 (1.19.2-2ubuntu0.3) ...\n",
            "Setting up binutils-x86-64-linux-gnu (2.38-4ubuntu2.3) ...\n",
            "Setting up krb5-multidev:amd64 (1.19.2-2ubuntu0.3) ...\n",
            "Setting up binutils (2.38-4ubuntu2.3) ...\n",
            "Setting up libkrb5-dev:amd64 (1.19.2-2ubuntu0.3) ...\n",
            "Processing triggers for libc-bin (2.35-0ubuntu3.4) ...\n",
            "/sbin/ldconfig.real: /usr/local/lib/libtbbmalloc.so.2 is not a symbolic link\n",
            "\n",
            "/sbin/ldconfig.real: /usr/local/lib/libtbbbind.so.3 is not a symbolic link\n",
            "\n",
            "/sbin/ldconfig.real: /usr/local/lib/libtbb.so.12 is not a symbolic link\n",
            "\n",
            "/sbin/ldconfig.real: /usr/local/lib/libtbbbind_2_0.so.3 is not a symbolic link\n",
            "\n",
            "/sbin/ldconfig.real: /usr/local/lib/libtbbbind_2_5.so.3 is not a symbolic link\n",
            "\n",
            "/sbin/ldconfig.real: /usr/local/lib/libtbbmalloc_proxy.so.2 is not a symbolic link\n",
            "\n",
            "Processing triggers for man-db (2.10.2-1) ...\n",
            "Processing triggers for hicolor-icon-theme (0.17-2) ...\n"
          ]
        },
        {
          "output_type": "execute_result",
          "data": {
            "text/plain": []
          },
          "metadata": {},
          "execution_count": 4
        }
      ]
    },
    {
      "cell_type": "code",
      "source": [
        "%%bash\n",
        "ln -sf /opt/bin/nvidia-smi /usr/bin/nvidia-smi\n",
        "pip install gputil\n",
        "pip install psutil\n",
        "pip install humanize"
      ],
      "metadata": {
        "id": "fBSAHtPxQhwa",
        "outputId": "69a0ad4d-331d-469e-bcc4-d688bc721b04",
        "colab": {
          "base_uri": "https://localhost:8080/"
        }
      },
      "execution_count": 7,
      "outputs": [
        {
          "output_type": "stream",
          "name": "stdout",
          "text": [
            "Collecting gputil\n",
            "  Downloading GPUtil-1.4.0.tar.gz (5.5 kB)\n",
            "  Preparing metadata (setup.py): started\n",
            "  Preparing metadata (setup.py): finished with status 'done'\n",
            "Building wheels for collected packages: gputil\n",
            "  Building wheel for gputil (setup.py): started\n",
            "  Building wheel for gputil (setup.py): finished with status 'done'\n",
            "  Created wheel for gputil: filename=GPUtil-1.4.0-py3-none-any.whl size=7392 sha256=e3714862b45617def1ad16471cfbe7b83950c776bb371598a21f8555c1f247bb\n",
            "  Stored in directory: /root/.cache/pip/wheels/a9/8a/bd/81082387151853ab8b6b3ef33426e98f5cbfebc3c397a9d4d0\n",
            "Successfully built gputil\n",
            "Installing collected packages: gputil\n",
            "Successfully installed gputil-1.4.0\n",
            "Requirement already satisfied: psutil in /usr/local/lib/python3.10/dist-packages (5.9.5)\n",
            "Requirement already satisfied: humanize in /usr/local/lib/python3.10/dist-packages (4.7.0)\n"
          ]
        }
      ]
    },
    {
      "cell_type": "code",
      "source": [
        "# Verify ressources\n",
        "import psutil\n",
        "import humanize\n",
        "import os\n",
        "import GPUtil as GPU\n",
        "\n",
        "GPUs = GPU.getGPUs()\n",
        "\n",
        "if len(GPUs)>0 :\n",
        "  print('''GPU availables: {0:.0f}'''.format(len(GPUs) )  )\n",
        "  gpu = GPUs[0]\n",
        "\n",
        "def printm():\n",
        "  process = psutil.Process(os.getpid())\n",
        "  print(\"Gen RAM Free: \" +\n",
        "          humanize.naturalsize( psutil.virtual_memory().available ),\n",
        "          \" I Proc size: \" +\n",
        "          humanize.naturalsize( process.memory_info().rss))\n",
        "  if gpu is None :\n",
        "    print('''GPU RAM Free: {0:.0f}MB | Used: {1:.0f}MB | Util {2:3.0f}% | Total {3:.0f}MB'''.format(gpu.memoryFree, gpu.memoryUsed, gpu.memoryUtil*100, gpu.memoryTotal))\n",
        "printm()"
      ],
      "metadata": {
        "colab": {
          "base_uri": "https://localhost:8080/"
        },
        "id": "YvElGeOXSR2k",
        "outputId": "7237576e-9379-4653-c0f7-4e9e2a5d9652"
      },
      "execution_count": 19,
      "outputs": [
        {
          "output_type": "stream",
          "name": "stdout",
          "text": [
            "GPU availables: 1\n",
            "Gen RAM Free: 12.3 GB  I Proc size: 653.6 MB\n"
          ]
        }
      ]
    },
    {
      "cell_type": "code",
      "source": [
        " #FilesSytem\n",
        "!df -h"
      ],
      "metadata": {
        "colab": {
          "base_uri": "https://localhost:8080/"
        },
        "id": "J2P-pIFhV2kH",
        "outputId": "c02e8b73-d42b-4edc-ad83-e0be17d54f45"
      },
      "execution_count": 18,
      "outputs": [
        {
          "output_type": "stream",
          "name": "stdout",
          "text": [
            "Filesystem      Size  Used Avail Use% Mounted on\n",
            "overlay          79G   28G   52G  35% /\n",
            "tmpfs            64M     0   64M   0% /dev\n",
            "shm             5.7G     0  5.7G   0% /dev/shm\n",
            "/dev/root       2.0G  1.1G  885M  55% /usr/sbin/docker-init\n",
            "/dev/sda1        50G   30G   21G  60% /opt/bin/.nvidia\n",
            "tmpfs           6.4G  1.2M  6.4G   1% /var/colab\n",
            "tmpfs           6.4G     0  6.4G   0% /proc/acpi\n",
            "tmpfs           6.4G     0  6.4G   0% /proc/scsi\n",
            "tmpfs           6.4G     0  6.4G   0% /sys/firmware\n"
          ]
        }
      ]
    }
  ]
}