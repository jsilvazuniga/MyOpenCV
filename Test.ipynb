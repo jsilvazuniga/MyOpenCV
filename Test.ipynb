{
  "nbformat": 4,
  "nbformat_minor": 0,
  "metadata": {
    "colab": {
      "name": "Test.ipynb",
      "provenance": [],
      "authorship_tag": "ABX9TyMIfKjbjf7zNkaK+XlGj8nt",
      "include_colab_link": true
    },
    "kernelspec": {
      "name": "python3",
      "display_name": "Python 3"
    },
    "language_info": {
      "name": "python"
    },
    "accelerator": "GPU"
  },
  "cells": [
    {
      "cell_type": "markdown",
      "metadata": {
        "id": "view-in-github",
        "colab_type": "text"
      },
      "source": [
        "<a href=\"https://colab.research.google.com/github/jsilvazuniga/MyOpenCV/blob/main/Test.ipynb\" target=\"_parent\"><img src=\"https://colab.research.google.com/assets/colab-badge.svg\" alt=\"Open In Colab\"/></a>"
      ]
    },
    {
      "cell_type": "code",
      "execution_count": 1,
      "metadata": {
        "colab": {
          "base_uri": "https://localhost:8080/"
        },
        "id": "Fcm3AwZl95Io",
        "outputId": "46325c60-e356-4ccb-b8a4-0bdd4a3a81b9"
      },
      "outputs": [
        {
          "output_type": "stream",
          "name": "stdout",
          "text": [
            "4.1.2\n",
            "2.7.0\n"
          ]
        }
      ],
      "source": [
        "import numpy as np\n",
        "import keras\n",
        "import tensorflow\n",
        "import cv2\n",
        "import matplotlib.pyplot as plt\n",
        "\n",
        "print(cv2.__version__)\n",
        "print(keras.__version__)"
      ]
    },
    {
      "cell_type": "code",
      "source": [
        "!pip install opencv-contrib-python"
      ],
      "metadata": {
        "colab": {
          "base_uri": "https://localhost:8080/"
        },
        "id": "sz2-m3a3-ySy",
        "outputId": "8ad73555-d6ab-42fd-c29a-9e683269a899"
      },
      "execution_count": 2,
      "outputs": [
        {
          "output_type": "stream",
          "name": "stdout",
          "text": [
            "Requirement already satisfied: opencv-contrib-python in /usr/local/lib/python3.7/dist-packages (4.1.2.30)\n",
            "Requirement already satisfied: numpy>=1.14.5 in /usr/local/lib/python3.7/dist-packages (from opencv-contrib-python) (1.19.5)\n"
          ]
        }
      ]
    },
    {
      "cell_type": "code",
      "source": [
        "%%bash\n",
        "apt-get install caffe-cuda"
      ],
      "metadata": {
        "colab": {
          "base_uri": "https://localhost:8080/"
        },
        "id": "mj-08Lqi_AeH",
        "outputId": "8df07ae5-79b8-4592-954a-7100bbfeb25c"
      },
      "execution_count": 3,
      "outputs": [
        {
          "output_type": "stream",
          "name": "stdout",
          "text": [
            "Reading package lists...\n",
            "Building dependency tree...\n",
            "Reading state information...\n",
            "The following additional packages will be installed:\n",
            "  caffe-tools-cuda cython3 fonts-lyx javascript-common libblosc1\n",
            "  libcaffe-cuda1 libcublas9.1 libcudart9.1 libcurand9.1 libgflags2.2\n",
            "  libgoogle-glog0v5 libjs-jquery libjs-jquery-ui libleveldb1v5 liblmdb0\n",
            "  python-matplotlib-data python-tables-data python3-bs4 python3-caffe-cuda\n",
            "  python3-chardet python3-cycler python3-dateutil python3-decorator\n",
            "  python3-gflags python3-h5py python3-html5lib python3-ipython\n",
            "  python3-ipython-genutils python3-leveldb python3-lxml python3-matplotlib\n",
            "  python3-networkx python3-nose python3-numexpr python3-numpy python3-olefile\n",
            "  python3-pandas python3-pandas-lib python3-pexpect python3-pickleshare\n",
            "  python3-pil python3-pkg-resources python3-prompt-toolkit python3-protobuf\n",
            "  python3-ptyprocess python3-pygments python3-pyparsing python3-pywt\n",
            "  python3-scipy python3-simplegeneric python3-six python3-skimage\n",
            "  python3-skimage-lib python3-tables python3-tables-lib python3-traitlets\n",
            "  python3-tz python3-wcwidth python3-webencodings python3-yaml\n",
            "  ttf-bitstream-vera\n",
            "Suggested packages:\n",
            "  libcaffe-cuda-dev caffe-doc cython-doc apache2 | lighttpd | httpd\n",
            "  libjs-jquery-ui-docs python-cycler-doc python-h5py-doc python3-genshi\n",
            "  python3-lxml-dbg python-lxml-doc dvipng gir1.2-gtk-3.0 ghostscript inkscape\n",
            "  ipython3 python-matplotlib-doc python3-cairocffi python3-gi-cairo\n",
            "  python3-gobject python3-pyqt4 python3-sip python3-tornado\n",
            "  texlive-extra-utils texlive-latex-extra ttf-staypuft python3-pydotplus\n",
            "  python-nose-doc python-numpy-doc python3-numpy-dbg python-pandas-doc\n",
            "  python-pexpect-doc python-pil-doc python3-pil-dbg python3-setuptools\n",
            "  python-pyparsing-doc python-scipy-doc python-skimage-doc python-tables-doc\n",
            "  python3-netcdf4 vitables\n",
            "The following NEW packages will be installed:\n",
            "  caffe-cuda caffe-tools-cuda cython3 fonts-lyx javascript-common libblosc1\n",
            "  libcaffe-cuda1 libcublas9.1 libcudart9.1 libcurand9.1 libgflags2.2\n",
            "  libgoogle-glog0v5 libjs-jquery libjs-jquery-ui libleveldb1v5 liblmdb0\n",
            "  python-matplotlib-data python-tables-data python3-bs4 python3-caffe-cuda\n",
            "  python3-chardet python3-cycler python3-dateutil python3-decorator\n",
            "  python3-gflags python3-h5py python3-html5lib python3-ipython\n",
            "  python3-ipython-genutils python3-leveldb python3-lxml python3-matplotlib\n",
            "  python3-networkx python3-nose python3-numexpr python3-numpy python3-olefile\n",
            "  python3-pandas python3-pandas-lib python3-pexpect python3-pickleshare\n",
            "  python3-pil python3-pkg-resources python3-prompt-toolkit python3-protobuf\n",
            "  python3-ptyprocess python3-pygments python3-pyparsing python3-pywt\n",
            "  python3-scipy python3-simplegeneric python3-six python3-skimage\n",
            "  python3-skimage-lib python3-tables python3-tables-lib python3-traitlets\n",
            "  python3-tz python3-wcwidth python3-webencodings python3-yaml\n",
            "  ttf-bitstream-vera\n",
            "0 upgraded, 62 newly installed, 0 to remove and 37 not upgraded.\n",
            "Need to get 123 MB of archives.\n",
            "After this operation, 327 MB of additional disk space will be used.\n",
            "Get:1 http://archive.ubuntu.com/ubuntu bionic/main amd64 python3-yaml amd64 3.12-1build2 [109 kB]\n",
            "Get:2 http://archive.ubuntu.com/ubuntu bionic/multiverse amd64 libcublas9.1 amd64 9.1.85-3ubuntu1 [25.0 MB]\n",
            "Get:3 http://archive.ubuntu.com/ubuntu bionic/multiverse amd64 libcudart9.1 amd64 9.1.85-3ubuntu1 [121 kB]\n",
            "Get:4 http://archive.ubuntu.com/ubuntu bionic/multiverse amd64 libcurand9.1 amd64 9.1.85-3ubuntu1 [38.9 MB]\n",
            "Get:5 http://archive.ubuntu.com/ubuntu bionic/universe amd64 libgflags2.2 amd64 2.2.1-1 [72.4 kB]\n",
            "Get:6 http://archive.ubuntu.com/ubuntu bionic/universe amd64 libgoogle-glog0v5 amd64 0.3.5-1 [50.5 kB]\n",
            "Get:7 http://archive.ubuntu.com/ubuntu bionic/main amd64 libleveldb1v5 amd64 1.20-2 [136 kB]\n",
            "Get:8 http://archive.ubuntu.com/ubuntu bionic-updates/universe amd64 liblmdb0 amd64 0.9.21-1ubuntu0.1 [44.6 kB]\n",
            "Get:9 http://archive.ubuntu.com/ubuntu bionic/multiverse amd64 libcaffe-cuda1 amd64 1.0.0-6build1 [1,600 kB]\n",
            "Get:10 http://archive.ubuntu.com/ubuntu bionic/multiverse amd64 caffe-tools-cuda amd64 1.0.0-6build1 [105 kB]\n",
            "Get:11 http://archive.ubuntu.com/ubuntu bionic/universe amd64 cython3 amd64 0.26.1-0.4 [1,925 kB]\n",
            "Get:12 http://archive.ubuntu.com/ubuntu bionic/main amd64 python3-six all 1.11.0-2 [11.4 kB]\n",
            "Get:13 http://archive.ubuntu.com/ubuntu bionic/main amd64 python3-dateutil all 2.6.1-1 [52.3 kB]\n",
            "Get:14 http://archive.ubuntu.com/ubuntu bionic/universe amd64 python3-gflags all 1.5.1-5 [35.6 kB]\n",
            "Get:15 http://archive.ubuntu.com/ubuntu bionic/main amd64 python3-numpy amd64 1:1.13.3-2ubuntu1 [1,943 kB]\n",
            "Get:16 http://archive.ubuntu.com/ubuntu bionic/universe amd64 python3-h5py amd64 2.7.1-2 [631 kB]\n",
            "Get:17 http://archive.ubuntu.com/ubuntu bionic/universe amd64 python3-decorator all 4.1.2-1 [9,364 B]\n",
            "Get:18 http://archive.ubuntu.com/ubuntu bionic/main amd64 python3-ptyprocess all 0.5.2-1 [12.7 kB]\n",
            "Get:19 http://archive.ubuntu.com/ubuntu bionic/main amd64 python3-pexpect all 4.2.1-1 [42.4 kB]\n",
            "Get:20 http://archive.ubuntu.com/ubuntu bionic/universe amd64 python3-pickleshare all 0.7.4-2 [6,904 B]\n",
            "Get:21 http://archive.ubuntu.com/ubuntu bionic/main amd64 python3-pkg-resources all 39.0.1-2 [98.8 kB]\n",
            "Get:22 http://archive.ubuntu.com/ubuntu bionic/universe amd64 python3-wcwidth all 0.1.7+dfsg1-1 [14.7 kB]\n",
            "Get:23 http://archive.ubuntu.com/ubuntu bionic/universe amd64 python3-prompt-toolkit all 1.0.15-1 [163 kB]\n",
            "Get:24 http://archive.ubuntu.com/ubuntu bionic-updates/main amd64 python3-pygments all 2.2.0+dfsg-1ubuntu0.2 [574 kB]\n",
            "Get:25 http://archive.ubuntu.com/ubuntu bionic/universe amd64 python3-simplegeneric all 0.8.1-1 [11.5 kB]\n",
            "Get:26 http://archive.ubuntu.com/ubuntu bionic/universe amd64 python3-ipython-genutils all 0.2.0-1 [20.9 kB]\n",
            "Get:27 http://archive.ubuntu.com/ubuntu bionic/universe amd64 python3-traitlets all 4.3.2-1 [59.1 kB]\n",
            "Get:28 http://archive.ubuntu.com/ubuntu bionic/universe amd64 python3-ipython all 5.5.0-1 [381 kB]\n",
            "Get:29 http://archive.ubuntu.com/ubuntu bionic/universe amd64 python3-leveldb amd64 0~svn68-3build3 [18.3 kB]\n",
            "Get:30 http://archive.ubuntu.com/ubuntu bionic-updates/universe amd64 fonts-lyx all 2.2.4-0ubuntu0.18.04.1 [155 kB]\n",
            "Get:31 http://archive.ubuntu.com/ubuntu bionic/universe amd64 ttf-bitstream-vera all 1.10-8 [352 kB]\n",
            "Get:32 http://archive.ubuntu.com/ubuntu bionic/universe amd64 python-matplotlib-data all 2.1.1-2ubuntu3 [3,774 kB]\n",
            "Get:33 http://archive.ubuntu.com/ubuntu bionic/main amd64 python3-pyparsing all 2.2.0+dfsg1-2 [52.2 kB]\n",
            "Get:34 http://archive.ubuntu.com/ubuntu bionic/main amd64 python3-tz all 2018.3-2 [25.1 kB]\n",
            "Get:35 http://archive.ubuntu.com/ubuntu bionic/main amd64 libjs-jquery all 3.2.1-1 [152 kB]\n",
            "Get:36 http://archive.ubuntu.com/ubuntu bionic/universe amd64 libjs-jquery-ui all 1.12.1+dfsg-5 [232 kB]\n",
            "Get:37 http://archive.ubuntu.com/ubuntu bionic/universe amd64 python3-cycler all 0.10.0-1 [7,622 B]\n",
            "Get:38 http://archive.ubuntu.com/ubuntu bionic/universe amd64 python3-matplotlib amd64 2.1.1-2ubuntu3 [3,907 kB]\n",
            "Get:39 http://archive.ubuntu.com/ubuntu bionic-updates/universe amd64 python3-networkx all 1.11-1ubuntu3 [606 kB]\n",
            "Get:40 http://archive.ubuntu.com/ubuntu bionic/universe amd64 python3-nose all 1.3.7-3 [115 kB]\n",
            "Get:41 http://archive.ubuntu.com/ubuntu bionic-updates/universe amd64 python3-pandas-lib amd64 0.22.0-4ubuntu1 [3,041 kB]\n",
            "Get:42 http://archive.ubuntu.com/ubuntu bionic-updates/universe amd64 python3-pandas all 0.22.0-4ubuntu1 [2,765 kB]\n",
            "Ign:43 http://archive.ubuntu.com/ubuntu bionic-updates/main amd64 python3-pil amd64 5.1.0-1ubuntu0.6\n",
            "Get:44 http://archive.ubuntu.com/ubuntu bionic/main amd64 python3-protobuf amd64 3.0.0-9.1ubuntu1 [262 kB]\n",
            "Get:45 http://archive.ubuntu.com/ubuntu bionic/universe amd64 python3-scipy amd64 0.19.1-2ubuntu1 [9,619 kB]\n",
            "Err:43 http://security.ubuntu.com/ubuntu bionic-updates/main amd64 python3-pil amd64 5.1.0-1ubuntu0.6\n",
            "  404  Not Found [IP: 91.189.88.142 80]\n",
            "Get:46 http://archive.ubuntu.com/ubuntu bionic/universe amd64 python3-skimage-lib amd64 0.13.1-2 [1,504 kB]\n",
            "Get:47 http://archive.ubuntu.com/ubuntu bionic/universe amd64 python3-pywt amd64 0.5.1-1.1ubuntu4 [932 kB]\n",
            "Get:48 http://archive.ubuntu.com/ubuntu bionic/universe amd64 python3-skimage all 0.13.1-2 [19.6 MB]\n",
            "Get:49 http://archive.ubuntu.com/ubuntu bionic/multiverse amd64 python3-caffe-cuda amd64 1.0.0-6build1 [689 kB]\n",
            "Get:50 http://archive.ubuntu.com/ubuntu bionic/multiverse amd64 caffe-cuda amd64 1.0.0-6build1 [4,564 B]\n",
            "Get:51 http://archive.ubuntu.com/ubuntu bionic/main amd64 javascript-common all 11 [6,066 B]\n",
            "Get:52 http://archive.ubuntu.com/ubuntu bionic/universe amd64 libblosc1 amd64 1.14.2+ds1-1 [31.4 kB]\n",
            "Get:53 http://archive.ubuntu.com/ubuntu bionic/universe amd64 python-tables-data all 3.4.2-4 [46.1 kB]\n",
            "Get:54 http://archive.ubuntu.com/ubuntu bionic/main amd64 python3-bs4 all 4.6.0-1 [67.8 kB]\n",
            "Get:55 http://archive.ubuntu.com/ubuntu bionic/main amd64 python3-chardet all 3.0.4-1 [80.3 kB]\n",
            "Get:56 http://archive.ubuntu.com/ubuntu bionic/main amd64 python3-webencodings all 0.5-2 [10.4 kB]\n",
            "Get:57 http://archive.ubuntu.com/ubuntu bionic/main amd64 python3-html5lib all 0.999999999-1 [81.9 kB]\n",
            "Ign:58 http://archive.ubuntu.com/ubuntu bionic-updates/main amd64 python3-lxml amd64 4.2.1-1ubuntu0.4\n",
            "Err:58 http://security.ubuntu.com/ubuntu bionic-updates/main amd64 python3-lxml amd64 4.2.1-1ubuntu0.4\n",
            "  404  Not Found [IP: 91.189.88.142 80]\n",
            "Get:59 http://archive.ubuntu.com/ubuntu bionic/universe amd64 python3-numexpr amd64 2.6.4-1 [119 kB]\n",
            "Get:60 http://archive.ubuntu.com/ubuntu bionic/main amd64 python3-olefile all 0.45.1-1 [33.3 kB]\n",
            "Get:61 http://archive.ubuntu.com/ubuntu bionic/universe amd64 python3-tables-lib amd64 3.4.2-4 [413 kB]\n",
            "Get:62 http://archive.ubuntu.com/ubuntu bionic/universe amd64 python3-tables all 3.4.2-4 [331 kB]\n",
            "Fetched 121 MB in 14s (8,822 kB/s)\n"
          ]
        },
        {
          "output_type": "stream",
          "name": "stderr",
          "text": [
            "E: Failed to fetch http://security.ubuntu.com/ubuntu/pool/main/p/pillow/python3-pil_5.1.0-1ubuntu0.6_amd64.deb  404  Not Found [IP: 91.189.88.142 80]\n",
            "E: Failed to fetch http://security.ubuntu.com/ubuntu/pool/main/l/lxml/python3-lxml_4.2.1-1ubuntu0.4_amd64.deb  404  Not Found [IP: 91.189.88.142 80]\n",
            "E: Unable to fetch some archives, maybe run apt-get update or try with --fix-missing?\n"
          ]
        }
      ]
    },
    {
      "cell_type": "code",
      "source": [
        "%%bash\n",
        "ln -sf /opt/bin/nvidia-smi /usr/bin/nvidia-smi\n",
        "pip install gputil\n",
        "pip install psutil\n",
        "pip install humanize"
      ],
      "metadata": {
        "colab": {
          "base_uri": "https://localhost:8080/"
        },
        "id": "xH7u3k1j_2Qc",
        "outputId": "a6327cb3-0c16-4d37-8f15-c96d8f7efc22"
      },
      "execution_count": 1,
      "outputs": [
        {
          "output_type": "stream",
          "name": "stdout",
          "text": [
            "Collecting gputil\n",
            "  Downloading GPUtil-1.4.0.tar.gz (5.5 kB)\n",
            "Building wheels for collected packages: gputil\n",
            "  Building wheel for gputil (setup.py): started\n",
            "  Building wheel for gputil (setup.py): finished with status 'done'\n",
            "  Created wheel for gputil: filename=GPUtil-1.4.0-py3-none-any.whl size=7411 sha256=0d48efee808077bfe1881ec6aee3d81202822f99c5a6170f4535c7732fe9a6e1\n",
            "  Stored in directory: /root/.cache/pip/wheels/6e/f8/83/534c52482d6da64622ddbf72cd93c35d2ef2881b78fd08ff0c\n",
            "Successfully built gputil\n",
            "Installing collected packages: gputil\n",
            "Successfully installed gputil-1.4.0\n",
            "Requirement already satisfied: psutil in /usr/local/lib/python3.7/dist-packages (5.4.8)\n",
            "Requirement already satisfied: humanize in /usr/local/lib/python3.7/dist-packages (0.5.1)\n"
          ]
        }
      ]
    },
    {
      "cell_type": "code",
      "source": [
        "import psutil\n",
        "import humanize\n",
        "import os\n",
        "import GPUtil as GPU"
      ],
      "metadata": {
        "id": "aQX7TcgRB6Mg"
      },
      "execution_count": 2,
      "outputs": []
    },
    {
      "cell_type": "code",
      "source": [
        "GPUs = GPU.getGPUs()\n",
        "gpu = GPUs[0]\n",
        "def printm():\n",
        "  process = psutil.Process(os.getpid())\n",
        "  print(\"Gen RAM Free: \" + \n",
        "          humanize.naturalsize( psutil.virtual_memory().available ), \n",
        "          \" I Proc size: \" + \n",
        "          humanize.naturalsize( process.memory_info().rss))\n",
        "  print('''GPU RAM Free: {0:.0f}MB | Used: {1:.0f}MB |\n",
        "          Util {2:3.0f}% | Total {3:.0f}MB'''.\n",
        "          format(gpu.memoryFree, gpu.memoryUsed, gpu.memoryUtil*100, gpu.memoryTotal))\n",
        "printm()"
      ],
      "metadata": {
        "colab": {
          "base_uri": "https://localhost:8080/"
        },
        "id": "4EPVp9eiB-XC",
        "outputId": "92f5d564-a4b3-402d-9882-68a0f959f018"
      },
      "execution_count": 3,
      "outputs": [
        {
          "output_type": "stream",
          "name": "stdout",
          "text": [
            "Gen RAM Free: 12.7 GB  I Proc size: 120.0 MB\n",
            "GPU RAM Free: 11441MB | Used: 0MB |\n",
            "          Util   0% | Total 11441MB\n"
          ]
        }
      ]
    },
    {
      "cell_type": "code",
      "source": [
        "!df -h"
      ],
      "metadata": {
        "colab": {
          "base_uri": "https://localhost:8080/"
        },
        "id": "pjE2t6kbCL7Y",
        "outputId": "a5e65e4a-fdbd-4736-a206-5afb0d8f260f"
      },
      "execution_count": 4,
      "outputs": [
        {
          "output_type": "stream",
          "name": "stdout",
          "text": [
            "Filesystem      Size  Used Avail Use% Mounted on\n",
            "overlay          79G   43G   37G  54% /\n",
            "tmpfs            64M     0   64M   0% /dev\n",
            "shm             5.7G     0  5.7G   0% /dev/shm\n",
            "/dev/root       2.0G  1.2G  817M  59% /sbin/docker-init\n",
            "tmpfs           6.4G   28K  6.4G   1% /var/colab\n",
            "/dev/sda1        86G   47G   40G  55% /opt/bin/.nvidia\n",
            "tmpfs           6.4G     0  6.4G   0% /proc/acpi\n",
            "tmpfs           6.4G     0  6.4G   0% /proc/scsi\n",
            "tmpfs           6.4G     0  6.4G   0% /sys/firmware\n"
          ]
        }
      ]
    }
  ]
}