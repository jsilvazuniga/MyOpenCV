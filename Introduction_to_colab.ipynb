{
  "cells": [
    {
      "cell_type": "markdown",
      "metadata": {
        "id": "view-in-github",
        "colab_type": "text"
      },
      "source": [
        "<a href=\"https://colab.research.google.com/github/jsilvazuniga/MyOpenCV/blob/main/Introduction_to_colab.ipynb\" target=\"_parent\"><img src=\"https://colab.research.google.com/assets/colab-badge.svg\" alt=\"Open In Colab\"/></a>"
      ]
    },
    {
      "cell_type": "markdown",
      "metadata": {
        "id": "BVf3o208G8L9"
      },
      "source": [
        "# <font color='blue'>Introduction to Google Colaboratory</font>"
      ]
    },
    {
      "cell_type": "markdown",
      "metadata": {
        "id": "aL2KYoYoJ7CL"
      },
      "source": [
        "## <font color='blue'>1. Overview</font>\n",
        "\n",
        "Google uses a Jupyter Notebook environment internally for its Research work and has made it available for general public (like us!). This is known as Colaboratory ( many people can work on a notebook and share it with others at the same time ). It runs completely on the cloud and your browser. With this, You don't need a high-end system for working on machine learning projects, just a simple computer with a supported browser will do!"
      ]
    },
    {
      "cell_type": "markdown",
      "metadata": {
        "id": "Ds1SS6zmKVii"
      },
      "source": [
        "## <font color='blue'>2. Who should use Colab?</font>\n",
        "\n",
        "Students and practitioners who dont have regular access to high-end systems, but want to learn and experiment with Deep learning. The reason is simple : \n",
        "* It provides access to high-end GPUs.\n",
        "* Even without GPUs, Colab provides high-end CPUs, around 12GB of RAM and ample HDD storage, which is a very good resource in itself.\n",
        "\n",
        "**The only caveat is that the runtime shuts down after 12 hours of continuous usage.** So, what? You can save your work before that, start a new runtime and continue your experiments. **This might not sound great but you shouldn't expect anything better for FREE!**\n",
        "\n",
        "However, it might be a hassle to use it if you are doing some serious experiments on a deadline. You should not take it for granted!\n"
      ]
    },
    {
      "cell_type": "markdown",
      "metadata": {
        "id": "zJMSNyadKzX_"
      },
      "source": [
        "## <font color='blue'>3. Create a Notebook on Colab</font>\n",
        "\n",
        "Go to https://colab.research.google.com\n",
        "\n",
        "**If you are not signed in to your gmail account, you would get a screen as shown below: please sign-in.**\n",
        "\n",
        "![alt text](https://www.dropbox.com/s/549pn8t3yuughoo/open_colab_without_google_sign_in.PNG?dl=1)\n",
        "\n",
        "**If you are already signed in, you would get something like :**\n",
        "\n",
        "![alt text](https://www.dropbox.com/s/9ofao8jily2f8ty/open_colab_with_google_sign_in.PNG?dl=1)\n",
        "\n",
        "**Next, Click on \"<font color='blue'>NEW PYTHON 3 NOTEBOOK</font>\"**\n",
        "\n",
        "This will open up an empty notebook on the browser with default \"untilted\" name.\n",
        "\n",
        "![alt text](https://www.dropbox.com/s/5pn4iqoolm0pp7a/untitled_colab_notebook.PNG?dl=1)\n",
        "\n",
        "**Change notebook name to your choice. Just give it a name, say - \"Introduction_to_colab\":**\n",
        "\n",
        "![alt text](https://www.dropbox.com/s/vfgo0plke388brf/name_notebook.PNG?dl=1)\n",
        "\n"
      ]
    },
    {
      "cell_type": "markdown",
      "metadata": {
        "id": "F6IePRyFR8fP"
      },
      "source": [
        "## <font color='blue'>4. Change runtime to enable GPU</font>\n",
        "\n",
        "We want to use the GPU as the backend. That's the whole point of using Colab! \n",
        "\n",
        "In the notebook, Go to runtime -> change runtime type -> Select Python 3 and GPU -> Save\n",
        "\n",
        "![alt text](https://www.dropbox.com/s/ydr74uzdcc3yzjb/runtime_change_new.png?dl=1)\n",
        "\n",
        "---\n",
        "\n",
        "![alt text](https://www.dropbox.com/s/i92ln5xnyopx0pu/change_to_gpu.PNG?dl=1)"
      ]
    },
    {
      "cell_type": "markdown",
      "metadata": {
        "id": "swbCwv7rhXCr"
      },
      "source": [
        "## <font color='blue'>5. Check out the environment</font>\n",
        "\n",
        "\n",
        "Colab Notebooks run on a backend which comes pre-installed with most of the machine learning libraries such as OpenCV, Keras, Tensorflow, Matplotlib etc. Let us try to import them and check the versions."
      ]
    },
    {
      "cell_type": "code",
      "execution_count": null,
      "metadata": {
        "colab": {
          "base_uri": "https://localhost:8080/",
          "height": 114
        },
        "id": "cpVmiXR6Gjtd",
        "outputId": "5c0d95ca-a47f-4f9b-afb3-e4595fc7a5d6"
      },
      "outputs": [
        {
          "name": "stderr",
          "output_type": "stream",
          "text": [
            "Using TensorFlow backend.\n"
          ]
        },
        {
          "data": {
            "text/html": [
              "<p style=\"color: red;\">\n",
              "The default version of TensorFlow in Colab will soon switch to TensorFlow 2.x.<br>\n",
              "We recommend you <a href=\"https://www.tensorflow.org/guide/migrate\" target=\"_blank\">upgrade</a> now \n",
              "or ensure your notebook will continue to use TensorFlow 1.x via the <code>%tensorflow_version 1.x</code> magic:\n",
              "<a href=\"https://colab.research.google.com/notebooks/tensorflow_version.ipynb\" target=\"_blank\">more info</a>.</p>\n"
            ],
            "text/plain": [
              "<IPython.core.display.HTML object>"
            ]
          },
          "metadata": {
            "tags": []
          },
          "output_type": "display_data"
        },
        {
          "name": "stdout",
          "output_type": "stream",
          "text": [
            "4.1.2\n",
            "2.2.5\n"
          ]
        }
      ],
      "source": [
        "import numpy as np\n",
        "import keras\n",
        "import tensorflow\n",
        "import cv2\n",
        "import matplotlib.pyplot as plt\n",
        "\n",
        "print(cv2.__version__)\n",
        "print(keras.__version__)"
      ]
    },
    {
      "cell_type": "markdown",
      "metadata": {
        "id": "ME7HblXTjlqr"
      },
      "source": [
        "## <font color='blue'>6. How to install new libraries</font>\n",
        "\n",
        "You can install any library using either pip or apt-get install \\<library_name\\>.\n",
        "\n",
        "For using shell commands from the notebook itself, you can \n",
        "- either prepend the command with an \"`!`\".\n",
        "- or, use the cell magic command - `%%`\n",
        "\n",
        "For example, we can install OpenCV Python library with contrib support using the following:\n",
        "\n",
        "```\n",
        "!pip install opencv-contrib-python\n",
        "```\n",
        "Or use magic command to install a system library using apt-get\n",
        "\n",
        "```\n",
        "%%bash\n",
        "apt-get install caffe-cuda\n",
        "```\n"
      ]
    },
    {
      "cell_type": "code",
      "execution_count": null,
      "metadata": {
        "colab": {
          "base_uri": "https://localhost:8080/",
          "height": 50
        },
        "id": "zgF0tqbZUcqL",
        "outputId": "036f7b1b-27fb-49c1-80d6-0e351d7b8018"
      },
      "outputs": [
        {
          "name": "stdout",
          "output_type": "stream",
          "text": [
            "Requirement already satisfied: opencv-contrib-python in /usr/local/lib/python3.6/dist-packages (4.1.2.30)\n",
            "Requirement already satisfied: numpy>=1.11.3 in /usr/local/lib/python3.6/dist-packages (from opencv-contrib-python) (1.17.4)\n"
          ]
        }
      ],
      "source": [
        "!pip install opencv-contrib-python"
      ]
    },
    {
      "cell_type": "markdown",
      "metadata": {
        "id": "bupVJcvJ9slI"
      },
      "source": [
        "Similarly we can install Caffe with GPU support using"
      ]
    },
    {
      "cell_type": "code",
      "execution_count": null,
      "metadata": {
        "colab": {
          "base_uri": "https://localhost:8080/",
          "height": 1000
        },
        "id": "p5VhwG_UUdoY",
        "outputId": "32097323-0ab0-41b3-d968-9ac1081b2c74"
      },
      "outputs": [
        {
          "name": "stdout",
          "output_type": "stream",
          "text": [
            "Reading package lists...\n",
            "Building dependency tree...\n",
            "Reading state information...\n",
            "The following package was automatically installed and is no longer required:\n",
            "  libnvidia-common-430\n",
            "Use 'apt autoremove' to remove it.\n",
            "The following additional packages will be installed:\n",
            "  caffe-tools-cuda cython3 fonts-lyx javascript-common libblosc1\n",
            "  libcaffe-cuda1 libcublas9.1 libcudart9.1 libcurand9.1 libgflags2.2\n",
            "  libgoogle-glog0v5 libjs-jquery-ui libleveldb1v5 liblmdb0\n",
            "  python-matplotlib-data python-tables-data python3-bs4 python3-caffe-cuda\n",
            "  python3-chardet python3-cycler python3-dateutil python3-decorator\n",
            "  python3-gflags python3-h5py python3-html5lib python3-ipython\n",
            "  python3-ipython-genutils python3-leveldb python3-lxml python3-matplotlib\n",
            "  python3-networkx python3-nose python3-numexpr python3-olefile python3-pandas\n",
            "  python3-pandas-lib python3-pexpect python3-pickleshare python3-pil\n",
            "  python3-pkg-resources python3-prompt-toolkit python3-protobuf\n",
            "  python3-ptyprocess python3-pygments python3-pyparsing python3-pywt\n",
            "  python3-scipy python3-simplegeneric python3-six python3-skimage\n",
            "  python3-skimage-lib python3-tables python3-tables-lib python3-traitlets\n",
            "  python3-tz python3-wcwidth python3-webencodings python3-yaml\n",
            "  ttf-bitstream-vera\n",
            "Suggested packages:\n",
            "  libcaffe-cuda-dev caffe-doc cython-doc apache2 | lighttpd | httpd\n",
            "  libjs-jquery-ui-docs python-cycler-doc python-h5py-doc python3-genshi\n",
            "  python3-lxml-dbg python-lxml-doc dvipng gir1.2-gtk-3.0 ghostscript inkscape\n",
            "  ipython3 python-matplotlib-doc python3-cairocffi python3-gi-cairo\n",
            "  python3-gobject python3-pyqt4 python3-sip python3-tornado\n",
            "  texlive-extra-utils texlive-latex-extra ttf-staypuft python3-pydotplus\n",
            "  python-nose-doc python-pandas-doc python-pexpect-doc python-pil-doc\n",
            "  python3-pil-dbg python3-setuptools python-pyparsing-doc python-scipy-doc\n",
            "  python-skimage-doc python-tables-doc python3-netcdf4 vitables\n",
            "The following NEW packages will be installed:\n",
            "  caffe-cuda caffe-tools-cuda cython3 fonts-lyx javascript-common libblosc1\n",
            "  libcaffe-cuda1 libcublas9.1 libcudart9.1 libcurand9.1 libgflags2.2\n",
            "  libgoogle-glog0v5 libjs-jquery-ui libleveldb1v5 liblmdb0\n",
            "  python-matplotlib-data python-tables-data python3-bs4 python3-caffe-cuda\n",
            "  python3-chardet python3-cycler python3-dateutil python3-decorator\n",
            "  python3-gflags python3-h5py python3-html5lib python3-ipython\n",
            "  python3-ipython-genutils python3-leveldb python3-lxml python3-matplotlib\n",
            "  python3-networkx python3-nose python3-numexpr python3-olefile python3-pandas\n",
            "  python3-pandas-lib python3-pexpect python3-pickleshare python3-pil\n",
            "  python3-pkg-resources python3-prompt-toolkit python3-protobuf\n",
            "  python3-ptyprocess python3-pygments python3-pyparsing python3-pywt\n",
            "  python3-scipy python3-simplegeneric python3-six python3-skimage\n",
            "  python3-skimage-lib python3-tables python3-tables-lib python3-traitlets\n",
            "  python3-tz python3-wcwidth python3-webencodings python3-yaml\n",
            "  ttf-bitstream-vera\n",
            "0 upgraded, 60 newly installed, 0 to remove and 7 not upgraded.\n",
            "Need to get 121 MB of archives.\n",
            "After this operation, 315 MB of additional disk space will be used.\n",
            "Get:1 http://archive.ubuntu.com/ubuntu bionic/main amd64 python3-yaml amd64 3.12-1build2 [109 kB]\n",
            "Get:2 http://archive.ubuntu.com/ubuntu bionic/multiverse amd64 libcublas9.1 amd64 9.1.85-3ubuntu1 [25.0 MB]\n",
            "Get:3 http://archive.ubuntu.com/ubuntu bionic/multiverse amd64 libcudart9.1 amd64 9.1.85-3ubuntu1 [121 kB]\n",
            "Get:4 http://archive.ubuntu.com/ubuntu bionic/multiverse amd64 libcurand9.1 amd64 9.1.85-3ubuntu1 [38.9 MB]\n",
            "Get:5 http://archive.ubuntu.com/ubuntu bionic/universe amd64 libgflags2.2 amd64 2.2.1-1 [72.4 kB]\n",
            "Get:6 http://archive.ubuntu.com/ubuntu bionic/universe amd64 libgoogle-glog0v5 amd64 0.3.5-1 [50.5 kB]\n",
            "Get:7 http://archive.ubuntu.com/ubuntu bionic/main amd64 libleveldb1v5 amd64 1.20-2 [136 kB]\n",
            "Get:8 http://archive.ubuntu.com/ubuntu bionic-updates/universe amd64 liblmdb0 amd64 0.9.21-1ubuntu0.1 [44.6 kB]\n",
            "Get:9 http://archive.ubuntu.com/ubuntu bionic/multiverse amd64 libcaffe-cuda1 amd64 1.0.0-6build1 [1,600 kB]\n",
            "Get:10 http://archive.ubuntu.com/ubuntu bionic/multiverse amd64 caffe-tools-cuda amd64 1.0.0-6build1 [105 kB]\n",
            "Get:11 http://archive.ubuntu.com/ubuntu bionic/universe amd64 cython3 amd64 0.26.1-0.4 [1,925 kB]\n",
            "Get:12 http://archive.ubuntu.com/ubuntu bionic/main amd64 python3-six all 1.11.0-2 [11.4 kB]\n",
            "Get:13 http://archive.ubuntu.com/ubuntu bionic/main amd64 python3-dateutil all 2.6.1-1 [52.3 kB]\n",
            "Get:14 http://archive.ubuntu.com/ubuntu bionic/universe amd64 python3-gflags all 1.5.1-5 [35.6 kB]\n",
            "Get:15 http://archive.ubuntu.com/ubuntu bionic/universe amd64 python3-h5py amd64 2.7.1-2 [631 kB]\n",
            "Get:16 http://archive.ubuntu.com/ubuntu bionic/universe amd64 python3-decorator all 4.1.2-1 [9,364 B]\n",
            "Get:17 http://archive.ubuntu.com/ubuntu bionic/main amd64 python3-ptyprocess all 0.5.2-1 [12.7 kB]\n",
            "Get:18 http://archive.ubuntu.com/ubuntu bionic/main amd64 python3-pexpect all 4.2.1-1 [42.4 kB]\n",
            "Get:19 http://archive.ubuntu.com/ubuntu bionic/universe amd64 python3-pickleshare all 0.7.4-2 [6,904 B]\n",
            "Get:20 http://archive.ubuntu.com/ubuntu bionic/main amd64 python3-pkg-resources all 39.0.1-2 [98.8 kB]\n",
            "Get:21 http://archive.ubuntu.com/ubuntu bionic/universe amd64 python3-wcwidth all 0.1.7+dfsg1-1 [14.7 kB]\n",
            "Get:22 http://archive.ubuntu.com/ubuntu bionic/universe amd64 python3-prompt-toolkit all 1.0.15-1 [163 kB]\n",
            "Get:23 http://archive.ubuntu.com/ubuntu bionic/main amd64 python3-pygments all 2.2.0+dfsg-1 [574 kB]\n",
            "Get:24 http://archive.ubuntu.com/ubuntu bionic/universe amd64 python3-simplegeneric all 0.8.1-1 [11.5 kB]\n",
            "Get:25 http://archive.ubuntu.com/ubuntu bionic/universe amd64 python3-ipython-genutils all 0.2.0-1 [20.9 kB]\n",
            "Get:26 http://archive.ubuntu.com/ubuntu bionic/universe amd64 python3-traitlets all 4.3.2-1 [59.1 kB]\n",
            "Get:27 http://archive.ubuntu.com/ubuntu bionic/universe amd64 python3-ipython all 5.5.0-1 [381 kB]\n",
            "Get:28 http://archive.ubuntu.com/ubuntu bionic/universe amd64 python3-leveldb amd64 0~svn68-3build3 [18.3 kB]\n",
            "Get:29 http://archive.ubuntu.com/ubuntu bionic-updates/universe amd64 fonts-lyx all 2.2.4-0ubuntu0.18.04.1 [155 kB]\n",
            "Get:30 http://archive.ubuntu.com/ubuntu bionic/universe amd64 ttf-bitstream-vera all 1.10-8 [352 kB]\n",
            "Get:31 http://archive.ubuntu.com/ubuntu bionic/universe amd64 python-matplotlib-data all 2.1.1-2ubuntu3 [3,774 kB]\n",
            "Get:32 http://archive.ubuntu.com/ubuntu bionic/main amd64 python3-pyparsing all 2.2.0+dfsg1-2 [52.2 kB]\n",
            "Get:33 http://archive.ubuntu.com/ubuntu bionic/main amd64 python3-tz all 2018.3-2 [25.1 kB]\n",
            "Get:34 http://archive.ubuntu.com/ubuntu bionic/universe amd64 libjs-jquery-ui all 1.12.1+dfsg-5 [232 kB]\n",
            "Get:35 http://archive.ubuntu.com/ubuntu bionic/universe amd64 python3-cycler all 0.10.0-1 [7,622 B]\n",
            "Get:36 http://archive.ubuntu.com/ubuntu bionic/universe amd64 python3-matplotlib amd64 2.1.1-2ubuntu3 [3,907 kB]\n",
            "Get:37 http://archive.ubuntu.com/ubuntu bionic-updates/universe amd64 python3-networkx all 1.11-1ubuntu3 [606 kB]\n",
            "Get:38 http://archive.ubuntu.com/ubuntu bionic/universe amd64 python3-nose all 1.3.7-3 [115 kB]\n",
            "Get:39 http://archive.ubuntu.com/ubuntu bionic/universe amd64 python3-pandas-lib amd64 0.22.0-4 [3,041 kB]\n",
            "Get:40 http://archive.ubuntu.com/ubuntu bionic/universe amd64 python3-pandas all 0.22.0-4 [2,764 kB]\n",
            "Get:41 http://archive.ubuntu.com/ubuntu bionic/main amd64 python3-pil amd64 5.1.0-1 [328 kB]\n",
            "Get:42 http://archive.ubuntu.com/ubuntu bionic/main amd64 python3-protobuf amd64 3.0.0-9.1ubuntu1 [262 kB]\n",
            "Get:43 http://archive.ubuntu.com/ubuntu bionic/universe amd64 python3-scipy amd64 0.19.1-2ubuntu1 [9,619 kB]\n",
            "Get:44 http://archive.ubuntu.com/ubuntu bionic/universe amd64 python3-skimage-lib amd64 0.13.1-2 [1,504 kB]\n",
            "Get:45 http://archive.ubuntu.com/ubuntu bionic/universe amd64 python3-pywt amd64 0.5.1-1.1ubuntu4 [932 kB]\n",
            "Get:46 http://archive.ubuntu.com/ubuntu bionic/universe amd64 python3-skimage all 0.13.1-2 [19.6 MB]\n",
            "Get:47 http://archive.ubuntu.com/ubuntu bionic/multiverse amd64 python3-caffe-cuda amd64 1.0.0-6build1 [689 kB]\n",
            "Get:48 http://archive.ubuntu.com/ubuntu bionic/multiverse amd64 caffe-cuda amd64 1.0.0-6build1 [4,564 B]\n",
            "Get:49 http://archive.ubuntu.com/ubuntu bionic/main amd64 javascript-common all 11 [6,066 B]\n",
            "Get:50 http://archive.ubuntu.com/ubuntu bionic/universe amd64 libblosc1 amd64 1.14.2+ds1-1 [31.4 kB]\n",
            "Get:51 http://archive.ubuntu.com/ubuntu bionic/universe amd64 python-tables-data all 3.4.2-4 [46.1 kB]\n",
            "Get:52 http://archive.ubuntu.com/ubuntu bionic/main amd64 python3-bs4 all 4.6.0-1 [67.8 kB]\n",
            "Get:53 http://archive.ubuntu.com/ubuntu bionic/main amd64 python3-chardet all 3.0.4-1 [80.3 kB]\n",
            "Get:54 http://archive.ubuntu.com/ubuntu bionic/main amd64 python3-webencodings all 0.5-2 [10.4 kB]\n",
            "Get:55 http://archive.ubuntu.com/ubuntu bionic/main amd64 python3-html5lib all 0.999999999-1 [81.9 kB]\n",
            "Get:56 http://archive.ubuntu.com/ubuntu bionic-updates/main amd64 python3-lxml amd64 4.2.1-1ubuntu0.1 [1,091 kB]\n",
            "Get:57 http://archive.ubuntu.com/ubuntu bionic/universe amd64 python3-numexpr amd64 2.6.4-1 [119 kB]\n",
            "Get:58 http://archive.ubuntu.com/ubuntu bionic/main amd64 python3-olefile all 0.45.1-1 [33.3 kB]\n",
            "Get:59 http://archive.ubuntu.com/ubuntu bionic/universe amd64 python3-tables-lib amd64 3.4.2-4 [413 kB]\n",
            "Get:60 http://archive.ubuntu.com/ubuntu bionic/universe amd64 python3-tables all 3.4.2-4 [331 kB]\n",
            "Fetched 121 MB in 19s (6,282 kB/s)\n",
            "Selecting previously unselected package python3-yaml.\r\n",
            "(Reading database ... \r",
            "(Reading database ... 5%\r",
            "(Reading database ... 10%\r",
            "(Reading database ... 15%\r",
            "(Reading database ... 20%\r",
            "(Reading database ... 25%\r",
            "(Reading database ... 30%\r",
            "(Reading database ... 35%\r",
            "(Reading database ... 40%\r",
            "(Reading database ... 45%\r",
            "(Reading database ... 50%\r",
            "(Reading database ... 55%\r",
            "(Reading database ... 60%\r",
            "(Reading database ... 65%\r",
            "(Reading database ... 70%\r",
            "(Reading database ... 75%\r",
            "(Reading database ... 80%\r",
            "(Reading database ... 85%\r",
            "(Reading database ... 90%\r",
            "(Reading database ... 95%\r",
            "(Reading database ... 100%\r",
            "(Reading database ... 145674 files and directories currently installed.)\r\n",
            "Preparing to unpack .../00-python3-yaml_3.12-1build2_amd64.deb ...\r\n",
            "Unpacking python3-yaml (3.12-1build2) ...\r\n",
            "Selecting previously unselected package libcublas9.1:amd64.\r\n",
            "Preparing to unpack .../01-libcublas9.1_9.1.85-3ubuntu1_amd64.deb ...\r\n",
            "Unpacking libcublas9.1:amd64 (9.1.85-3ubuntu1) ...\r\n",
            "Selecting previously unselected package libcudart9.1:amd64.\r\n",
            "Preparing to unpack .../02-libcudart9.1_9.1.85-3ubuntu1_amd64.deb ...\r\n",
            "Unpacking libcudart9.1:amd64 (9.1.85-3ubuntu1) ...\r\n",
            "Selecting previously unselected package libcurand9.1:amd64.\r\n",
            "Preparing to unpack .../03-libcurand9.1_9.1.85-3ubuntu1_amd64.deb ...\r\n",
            "Unpacking libcurand9.1:amd64 (9.1.85-3ubuntu1) ...\r\n",
            "Selecting previously unselected package libgflags2.2.\r\n",
            "Preparing to unpack .../04-libgflags2.2_2.2.1-1_amd64.deb ...\r\n",
            "Unpacking libgflags2.2 (2.2.1-1) ...\r\n",
            "Selecting previously unselected package libgoogle-glog0v5.\r\n",
            "Preparing to unpack .../05-libgoogle-glog0v5_0.3.5-1_amd64.deb ...\r\n",
            "Unpacking libgoogle-glog0v5 (0.3.5-1) ...\r\n",
            "Selecting previously unselected package libleveldb1v5:amd64.\r\n",
            "Preparing to unpack .../06-libleveldb1v5_1.20-2_amd64.deb ...\r\n",
            "Unpacking libleveldb1v5:amd64 (1.20-2) ...\r\n",
            "Selecting previously unselected package liblmdb0:amd64.\r\n",
            "Preparing to unpack .../07-liblmdb0_0.9.21-1ubuntu0.1_amd64.deb ...\r\n",
            "Unpacking liblmdb0:amd64 (0.9.21-1ubuntu0.1) ...\r\n",
            "Selecting previously unselected package libcaffe-cuda1:amd64.\r\n",
            "Preparing to unpack .../08-libcaffe-cuda1_1.0.0-6build1_amd64.deb ...\r\n",
            "Unpacking libcaffe-cuda1:amd64 (1.0.0-6build1) ...\r\n",
            "Selecting previously unselected package caffe-tools-cuda.\r\n",
            "Preparing to unpack .../09-caffe-tools-cuda_1.0.0-6build1_amd64.deb ...\r\n",
            "Unpacking caffe-tools-cuda (1.0.0-6build1) ...\r\n",
            "Selecting previously unselected package cython3.\r\n",
            "Preparing to unpack .../10-cython3_0.26.1-0.4_amd64.deb ...\r\n",
            "Unpacking cython3 (0.26.1-0.4) ...\r\n",
            "Selecting previously unselected package python3-six.\r\n",
            "Preparing to unpack .../11-python3-six_1.11.0-2_all.deb ...\r\n",
            "Unpacking python3-six (1.11.0-2) ...\r\n",
            "Selecting previously unselected package python3-dateutil.\r\n",
            "Preparing to unpack .../12-python3-dateutil_2.6.1-1_all.deb ...\r\n",
            "Unpacking python3-dateutil (2.6.1-1) ...\r\n",
            "Selecting previously unselected package python3-gflags.\r\n",
            "Preparing to unpack .../13-python3-gflags_1.5.1-5_all.deb ...\r\n",
            "Unpacking python3-gflags (1.5.1-5) ...\r\n",
            "Selecting previously unselected package python3-h5py.\r\n",
            "Preparing to unpack .../14-python3-h5py_2.7.1-2_amd64.deb ...\r\n",
            "Unpacking python3-h5py (2.7.1-2) ...\r\n",
            "Selecting previously unselected package python3-decorator.\r\n",
            "Preparing to unpack .../15-python3-decorator_4.1.2-1_all.deb ...\r\n",
            "Unpacking python3-decorator (4.1.2-1) ...\r\n",
            "Selecting previously unselected package python3-ptyprocess.\r\n",
            "Preparing to unpack .../16-python3-ptyprocess_0.5.2-1_all.deb ...\r\n",
            "Unpacking python3-ptyprocess (0.5.2-1) ...\r\n",
            "Selecting previously unselected package python3-pexpect.\r\n",
            "Preparing to unpack .../17-python3-pexpect_4.2.1-1_all.deb ...\r\n",
            "Unpacking python3-pexpect (4.2.1-1) ...\r\n",
            "Selecting previously unselected package python3-pickleshare.\r\n",
            "Preparing to unpack .../18-python3-pickleshare_0.7.4-2_all.deb ...\r\n",
            "Unpacking python3-pickleshare (0.7.4-2) ...\r\n",
            "Selecting previously unselected package python3-pkg-resources.\r\n",
            "Preparing to unpack .../19-python3-pkg-resources_39.0.1-2_all.deb ...\r\n",
            "Unpacking python3-pkg-resources (39.0.1-2) ...\r\n",
            "Selecting previously unselected package python3-wcwidth.\r\n",
            "Preparing to unpack .../20-python3-wcwidth_0.1.7+dfsg1-1_all.deb ...\r\n",
            "Unpacking python3-wcwidth (0.1.7+dfsg1-1) ...\r\n",
            "Selecting previously unselected package python3-prompt-toolkit.\r\n",
            "Preparing to unpack .../21-python3-prompt-toolkit_1.0.15-1_all.deb ...\r\n",
            "Unpacking python3-prompt-toolkit (1.0.15-1) ...\r\n",
            "Selecting previously unselected package python3-pygments.\r\n",
            "Preparing to unpack .../22-python3-pygments_2.2.0+dfsg-1_all.deb ...\r\n",
            "Unpacking python3-pygments (2.2.0+dfsg-1) ...\r\n",
            "Selecting previously unselected package python3-simplegeneric.\r\n",
            "Preparing to unpack .../23-python3-simplegeneric_0.8.1-1_all.deb ...\r\n",
            "Unpacking python3-simplegeneric (0.8.1-1) ...\r\n",
            "Selecting previously unselected package python3-ipython-genutils.\r\n",
            "Preparing to unpack .../24-python3-ipython-genutils_0.2.0-1_all.deb ...\r\n",
            "Unpacking python3-ipython-genutils (0.2.0-1) ...\r\n",
            "Selecting previously unselected package python3-traitlets.\r\n",
            "Preparing to unpack .../25-python3-traitlets_4.3.2-1_all.deb ...\r\n",
            "Unpacking python3-traitlets (4.3.2-1) ...\r\n",
            "Selecting previously unselected package python3-ipython.\r\n",
            "Preparing to unpack .../26-python3-ipython_5.5.0-1_all.deb ...\r\n",
            "Unpacking python3-ipython (5.5.0-1) ...\r\n",
            "Selecting previously unselected package python3-leveldb.\r\n",
            "Preparing to unpack .../27-python3-leveldb_0~svn68-3build3_amd64.deb ...\r\n",
            "Unpacking python3-leveldb (0~svn68-3build3) ...\r\n",
            "Selecting previously unselected package fonts-lyx.\r\n",
            "Preparing to unpack .../28-fonts-lyx_2.2.4-0ubuntu0.18.04.1_all.deb ...\r\n",
            "Unpacking fonts-lyx (2.2.4-0ubuntu0.18.04.1) ...\r\n",
            "Selecting previously unselected package ttf-bitstream-vera.\r\n",
            "Preparing to unpack .../29-ttf-bitstream-vera_1.10-8_all.deb ...\r\n",
            "Unpacking ttf-bitstream-vera (1.10-8) ...\r\n",
            "Selecting previously unselected package python-matplotlib-data.\r\n",
            "Preparing to unpack .../30-python-matplotlib-data_2.1.1-2ubuntu3_all.deb ...\r\n",
            "Unpacking python-matplotlib-data (2.1.1-2ubuntu3) ...\r\n",
            "Selecting previously unselected package python3-pyparsing.\r\n",
            "Preparing to unpack .../31-python3-pyparsing_2.2.0+dfsg1-2_all.deb ...\r\n",
            "Unpacking python3-pyparsing (2.2.0+dfsg1-2) ...\r\n",
            "Selecting previously unselected package python3-tz.\r\n",
            "Preparing to unpack .../32-python3-tz_2018.3-2_all.deb ...\r\n",
            "Unpacking python3-tz (2018.3-2) ...\r\n",
            "Selecting previously unselected package libjs-jquery-ui.\r\n",
            "Preparing to unpack .../33-libjs-jquery-ui_1.12.1+dfsg-5_all.deb ...\r\n",
            "Unpacking libjs-jquery-ui (1.12.1+dfsg-5) ...\r\n",
            "Selecting previously unselected package python3-cycler.\r\n",
            "Preparing to unpack .../34-python3-cycler_0.10.0-1_all.deb ...\r\n",
            "Unpacking python3-cycler (0.10.0-1) ...\r\n",
            "Selecting previously unselected package python3-matplotlib.\r\n",
            "Preparing to unpack .../35-python3-matplotlib_2.1.1-2ubuntu3_amd64.deb ...\r\n",
            "Unpacking python3-matplotlib (2.1.1-2ubuntu3) ...\r\n",
            "Selecting previously unselected package python3-networkx.\r\n",
            "Preparing to unpack .../36-python3-networkx_1.11-1ubuntu3_all.deb ...\r\n",
            "Unpacking python3-networkx (1.11-1ubuntu3) ...\r\n",
            "Selecting previously unselected package python3-nose.\r\n",
            "Preparing to unpack .../37-python3-nose_1.3.7-3_all.deb ...\r\n",
            "Unpacking python3-nose (1.3.7-3) ...\r\n",
            "Selecting previously unselected package python3-pandas-lib.\r\n",
            "Preparing to unpack .../38-python3-pandas-lib_0.22.0-4_amd64.deb ...\r\n",
            "Unpacking python3-pandas-lib (0.22.0-4) ...\r\n",
            "Selecting previously unselected package python3-pandas.\r\n",
            "Preparing to unpack .../39-python3-pandas_0.22.0-4_all.deb ...\r\n",
            "Unpacking python3-pandas (0.22.0-4) ...\r\n",
            "Selecting previously unselected package python3-pil:amd64.\r\n",
            "Preparing to unpack .../40-python3-pil_5.1.0-1_amd64.deb ...\r\n",
            "Unpacking python3-pil:amd64 (5.1.0-1) ...\r\n",
            "Selecting previously unselected package python3-protobuf.\r\n",
            "Preparing to unpack .../41-python3-protobuf_3.0.0-9.1ubuntu1_amd64.deb ...\r\n",
            "Unpacking python3-protobuf (3.0.0-9.1ubuntu1) ...\r\n",
            "Selecting previously unselected package python3-scipy.\r\n",
            "Preparing to unpack .../42-python3-scipy_0.19.1-2ubuntu1_amd64.deb ...\r\n",
            "Unpacking python3-scipy (0.19.1-2ubuntu1) ...\r\n",
            "Selecting previously unselected package python3-skimage-lib:amd64.\r\n",
            "Preparing to unpack .../43-python3-skimage-lib_0.13.1-2_amd64.deb ...\r\n",
            "Unpacking python3-skimage-lib:amd64 (0.13.1-2) ...\r\n",
            "Selecting previously unselected package python3-pywt.\r\n",
            "Preparing to unpack .../44-python3-pywt_0.5.1-1.1ubuntu4_amd64.deb ...\r\n",
            "Unpacking python3-pywt (0.5.1-1.1ubuntu4) ...\r\n",
            "Selecting previously unselected package python3-skimage.\r\n",
            "Preparing to unpack .../45-python3-skimage_0.13.1-2_all.deb ...\r\n",
            "Unpacking python3-skimage (0.13.1-2) ...\r\n",
            "Selecting previously unselected package python3-caffe-cuda.\r\n",
            "Preparing to unpack .../46-python3-caffe-cuda_1.0.0-6build1_amd64.deb ...\r\n",
            "Unpacking python3-caffe-cuda (1.0.0-6build1) ...\r\n",
            "Selecting previously unselected package caffe-cuda.\r\n",
            "Preparing to unpack .../47-caffe-cuda_1.0.0-6build1_amd64.deb ...\r\n",
            "Unpacking caffe-cuda (1.0.0-6build1) ...\r\n",
            "Selecting previously unselected package javascript-common.\r\n",
            "Preparing to unpack .../48-javascript-common_11_all.deb ...\r\n",
            "Unpacking javascript-common (11) ...\r\n",
            "Selecting previously unselected package libblosc1.\r\n",
            "Preparing to unpack .../49-libblosc1_1.14.2+ds1-1_amd64.deb ...\r\n",
            "Unpacking libblosc1 (1.14.2+ds1-1) ...\r\n",
            "Selecting previously unselected package python-tables-data.\r\n",
            "Preparing to unpack .../50-python-tables-data_3.4.2-4_all.deb ...\r\n",
            "Unpacking python-tables-data (3.4.2-4) ...\r\n",
            "Selecting previously unselected package python3-bs4.\r\n",
            "Preparing to unpack .../51-python3-bs4_4.6.0-1_all.deb ...\r\n",
            "Unpacking python3-bs4 (4.6.0-1) ...\r\n",
            "Selecting previously unselected package python3-chardet.\r\n",
            "Preparing to unpack .../52-python3-chardet_3.0.4-1_all.deb ...\r\n",
            "Unpacking python3-chardet (3.0.4-1) ...\r\n",
            "Selecting previously unselected package python3-webencodings.\r\n",
            "Preparing to unpack .../53-python3-webencodings_0.5-2_all.deb ...\r\n",
            "Unpacking python3-webencodings (0.5-2) ...\r\n",
            "Selecting previously unselected package python3-html5lib.\r\n",
            "Preparing to unpack .../54-python3-html5lib_0.999999999-1_all.deb ...\r\n",
            "Unpacking python3-html5lib (0.999999999-1) ...\r\n",
            "Selecting previously unselected package python3-lxml:amd64.\r\n",
            "Preparing to unpack .../55-python3-lxml_4.2.1-1ubuntu0.1_amd64.deb ...\r\n",
            "Unpacking python3-lxml:amd64 (4.2.1-1ubuntu0.1) ...\r\n",
            "Selecting previously unselected package python3-numexpr.\r\n",
            "Preparing to unpack .../56-python3-numexpr_2.6.4-1_amd64.deb ...\r\n",
            "Unpacking python3-numexpr (2.6.4-1) ...\r\n",
            "Selecting previously unselected package python3-olefile.\r\n",
            "Preparing to unpack .../57-python3-olefile_0.45.1-1_all.deb ...\r\n",
            "Unpacking python3-olefile (0.45.1-1) ...\r\n",
            "Selecting previously unselected package python3-tables-lib.\r\n",
            "Preparing to unpack .../58-python3-tables-lib_3.4.2-4_amd64.deb ...\r\n",
            "Unpacking python3-tables-lib (3.4.2-4) ...\r\n",
            "Selecting previously unselected package python3-tables.\r\n",
            "Preparing to unpack .../59-python3-tables_3.4.2-4_all.deb ...\r\n",
            "Unpacking python3-tables (3.4.2-4) ...\r\n",
            "Setting up python3-yaml (3.12-1build2) ...\r\n",
            "Setting up libblosc1 (1.14.2+ds1-1) ...\r\n",
            "Setting up python3-pickleshare (0.7.4-2) ...\r\n",
            "Setting up libgflags2.2 (2.2.1-1) ...\r\n",
            "Setting up python3-pil:amd64 (5.1.0-1) ...\r\n",
            "Setting up python3-simplegeneric (0.8.1-1) ...\r\n",
            "Setting up python3-webencodings (0.5-2) ...\r\n",
            "Setting up python3-tables-lib (3.4.2-4) ...\r\n",
            "Setting up liblmdb0:amd64 (0.9.21-1ubuntu0.1) ...\r\n",
            "Setting up python3-lxml:amd64 (4.2.1-1ubuntu0.1) ...\r\n",
            "Setting up python3-olefile (0.45.1-1) ...\r\n",
            "Setting up python3-six (1.11.0-2) ...\r\n",
            "Setting up python3-pyparsing (2.2.0+dfsg1-2) ...\r\n",
            "Setting up python3-cycler (0.10.0-1) ...\r\n",
            "Setting up python-tables-data (3.4.2-4) ...\r\n",
            "Setting up python3-pkg-resources (39.0.1-2) ...\r\n",
            "Setting up python3-bs4 (4.6.0-1) ...\r\n",
            "Setting up python3-gflags (1.5.1-5) ...\r\n",
            "update-alternatives: using /usr/bin/python3-gflags2man to provide /usr/bin/gflags2man (gflags2man) in auto mode\r\n",
            "Setting up libleveldb1v5:amd64 (1.20-2) ...\r\n",
            "Setting up python3-skimage-lib:amd64 (0.13.1-2) ...\r\n",
            "Setting up python3-pandas-lib (0.22.0-4) ...\r\n",
            "Setting up python3-wcwidth (0.1.7+dfsg1-1) ...\r\n",
            "Setting up libcurand9.1:amd64 (9.1.85-3ubuntu1) ...\r\n",
            "Setting up python3-protobuf (3.0.0-9.1ubuntu1) ...\r\n",
            "Setting up python3-ipython-genutils (0.2.0-1) ...\r\n",
            "Setting up python3-nose (1.3.7-3) ...\r\n",
            "Setting up libgoogle-glog0v5 (0.3.5-1) ...\r\n",
            "Setting up python3-chardet (3.0.4-1) ...\r\n",
            "Setting up python3-html5lib (0.999999999-1) ...\r\n",
            "Setting up libjs-jquery-ui (1.12.1+dfsg-5) ...\r\n",
            "Setting up libcublas9.1:amd64 (9.1.85-3ubuntu1) ...\r\n",
            "Setting up ttf-bitstream-vera (1.10-8) ...\r\n",
            "Setting up cython3 (0.26.1-0.4) ...\r\n",
            "Setting up python3-pywt (0.5.1-1.1ubuntu4) ...\r\n",
            "Setting up libcudart9.1:amd64 (9.1.85-3ubuntu1) ...\r\n",
            "Setting up javascript-common (11) ...\r\n",
            "Setting up python3-decorator (4.1.2-1) ...\r\n",
            "Setting up python3-traitlets (4.3.2-1) ...\r\n",
            "Setting up python3-ptyprocess (0.5.2-1) ...\r\n",
            "Setting up python3-tz (2018.3-2) ...\r\n",
            "Setting up python3-leveldb (0~svn68-3build3) ...\r\n",
            "Setting up python3-dateutil (2.6.1-1) ...\r\n",
            "Setting up python3-h5py (2.7.1-2) ...\r\n",
            "Setting up fonts-lyx (2.2.4-0ubuntu0.18.04.1) ...\r\n",
            "Setting up python3-pygments (2.2.0+dfsg-1) ...\r\n",
            "Setting up libcaffe-cuda1:amd64 (1.0.0-6build1) ...\r\n",
            "Setting up python3-scipy (0.19.1-2ubuntu1) ...\r\n",
            "Setting up python3-prompt-toolkit (1.0.15-1) ...\r\n",
            "Setting up python-matplotlib-data (2.1.1-2ubuntu3) ...\r\n",
            "Setting up python3-numexpr (2.6.4-1) ...\r\n",
            "Setting up python3-tables (3.4.2-4) ...\r\n",
            "Setting up python3-pexpect (4.2.1-1) ...\r\n",
            "Setting up python3-networkx (1.11-1ubuntu3) ...\r\n",
            "Setting up python3-pandas (0.22.0-4) ...\r\n",
            "Setting up caffe-tools-cuda (1.0.0-6build1) ...\r\n",
            "Setting up python3-matplotlib (2.1.1-2ubuntu3) ...\r\n",
            "Setting up python3-ipython (5.5.0-1) ...\r\n",
            "Setting up python3-skimage (0.13.1-2) ...\r\n",
            "Setting up python3-caffe-cuda (1.0.0-6build1) ...\r\n",
            "Setting up caffe-cuda (1.0.0-6build1) ...\r\n",
            "Processing triggers for man-db (2.8.3-2ubuntu0.1) ...\r\n",
            "Processing triggers for fontconfig (2.12.6-0ubuntu2) ...\r\n",
            "Processing triggers for libc-bin (2.27-3ubuntu1) ...\r\n"
          ]
        }
      ],
      "source": [
        "%%bash\n",
        "apt-get install caffe-cuda"
      ]
    },
    {
      "cell_type": "markdown",
      "metadata": {
        "id": "cerQ2WbsEFEt"
      },
      "source": [
        "## <font color='blue'>7. Checkout the available resources</font>\n",
        "\n",
        "Some of the resource information is available at the top right of the notebook. For other information like GPU stats, we can use the following code to check out the resources available to you."
      ]
    },
    {
      "cell_type": "markdown",
      "metadata": {
        "id": "JoTJkV1HEgmS"
      },
      "source": [
        "### <font color='blue'>7.1. Install the required libraries.</font>\n"
      ]
    },
    {
      "cell_type": "code",
      "execution_count": null,
      "metadata": {
        "colab": {
          "base_uri": "https://localhost:8080/",
          "height": 218
        },
        "id": "N_0DbvLEUeQx",
        "outputId": "5175d2a8-2981-438f-959a-bc5cd804197a"
      },
      "outputs": [
        {
          "name": "stdout",
          "output_type": "stream",
          "text": [
            "Collecting gputil\n",
            "  Downloading https://files.pythonhosted.org/packages/ed/0e/5c61eedde9f6c87713e89d794f01e378cfd9565847d4576fa627d758c554/GPUtil-1.4.0.tar.gz\n",
            "Building wheels for collected packages: gputil\n",
            "  Building wheel for gputil (setup.py): started\n",
            "  Building wheel for gputil (setup.py): finished with status 'done'\n",
            "  Created wheel for gputil: filename=GPUtil-1.4.0-cp36-none-any.whl size=7410 sha256=519e90effcd526574e3b78b934f73c879dd2b5e33aee2937872cee3c4a58c282\n",
            "  Stored in directory: /root/.cache/pip/wheels/3d/77/07/80562de4bb0786e5ea186911a2c831fdd0018bda69beab71fd\n",
            "Successfully built gputil\n",
            "Installing collected packages: gputil\n",
            "Successfully installed gputil-1.4.0\n",
            "Requirement already satisfied: psutil in /usr/local/lib/python3.6/dist-packages (5.4.8)\n",
            "Requirement already satisfied: humanize in /usr/local/lib/python3.6/dist-packages (0.5.1)\n"
          ]
        }
      ],
      "source": [
        "%%bash\n",
        "ln -sf /opt/bin/nvidia-smi /usr/bin/nvidia-smi\n",
        "pip install gputil\n",
        "pip install psutil\n",
        "pip install humanize"
      ]
    },
    {
      "cell_type": "markdown",
      "metadata": {
        "id": "OvWzrwppFBGf"
      },
      "source": [
        "### <font color='blue'>7.2. Load the libraries</font>"
      ]
    },
    {
      "cell_type": "code",
      "execution_count": null,
      "metadata": {
        "id": "u38MD92ZE4c4"
      },
      "outputs": [],
      "source": [
        "import psutil\n",
        "import humanize\n",
        "import os\n",
        "import GPUtil as GPU"
      ]
    },
    {
      "cell_type": "markdown",
      "metadata": {
        "id": "QCUjWSjUF3RY"
      },
      "source": [
        "### <font color='blue'>7.3. Check the RAM and GPU usage</font>"
      ]
    },
    {
      "cell_type": "code",
      "execution_count": null,
      "metadata": {
        "colab": {
          "base_uri": "https://localhost:8080/",
          "height": 67
        },
        "id": "_RSPKhUWFrG_",
        "outputId": "9de18466-96d6-4b00-dbdb-278f691f15bc"
      },
      "outputs": [
        {
          "name": "stdout",
          "output_type": "stream",
          "text": [
            "Gen RAM Free: 12.7 GB  I Proc size: 365.5 MB\n",
            "GPU RAM Free: 16280MB | Used: 0MB |\n",
            "          Util   0% | Total 16280MB\n"
          ]
        }
      ],
      "source": [
        "GPUs = GPU.getGPUs()\n",
        "gpu = GPUs[0]\n",
        "def printm():\n",
        "  process = psutil.Process(os.getpid())\n",
        "  print(\"Gen RAM Free: \" + \n",
        "          humanize.naturalsize( psutil.virtual_memory().available ), \n",
        "          \" I Proc size: \" + \n",
        "          humanize.naturalsize( process.memory_info().rss))\n",
        "  print('''GPU RAM Free: {0:.0f}MB | Used: {1:.0f}MB |\n",
        "          Util {2:3.0f}% | Total {3:.0f}MB'''.\n",
        "          format(gpu.memoryFree, gpu.memoryUsed, gpu.memoryUtil*100, gpu.memoryTotal))\n",
        "printm()"
      ]
    },
    {
      "cell_type": "markdown",
      "metadata": {
        "id": "oDw0FcbjGMs9"
      },
      "source": [
        "The above code snippet was taken from [stackoverflow](https://stackoverflow.com/q/48750199)"
      ]
    },
    {
      "cell_type": "markdown",
      "metadata": {
        "id": "dosQOt1IGd5T"
      },
      "source": [
        "### <font color='blue'>7.4. Check Disk Space</font>"
      ]
    },
    {
      "cell_type": "code",
      "execution_count": null,
      "metadata": {
        "colab": {
          "base_uri": "https://localhost:8080/",
          "height": 185
        },
        "id": "80RdFsq9GK10",
        "outputId": "8a2bd31a-9f44-429e-e93f-7e5de5c7eb04"
      },
      "outputs": [
        {
          "name": "stdout",
          "output_type": "stream",
          "text": [
            "Filesystem      Size  Used Avail Use% Mounted on\n",
            "overlay          69G   32G   34G  49% /\n",
            "tmpfs            64M     0   64M   0% /dev\n",
            "tmpfs           6.4G     0  6.4G   0% /sys/fs/cgroup\n",
            "/dev/sda1        75G   37G   39G  50% /opt/bin\n",
            "tmpfs           6.4G   12K  6.4G   1% /var/colab\n",
            "shm             5.9G  4.0K  5.9G   1% /dev/shm\n",
            "tmpfs           6.4G     0  6.4G   0% /proc/acpi\n",
            "tmpfs           6.4G     0  6.4G   0% /proc/scsi\n",
            "tmpfs           6.4G     0  6.4G   0% /sys/firmware\n"
          ]
        }
      ],
      "source": [
        "!df -h"
      ]
    },
    {
      "cell_type": "markdown",
      "metadata": {
        "id": "ic3KwOfmG13G"
      },
      "source": [
        "**It shows I got around 16GB of GPU RAM, 12.8 GB of System RAM and 69 GB of Hard Disk space available.**"
      ]
    },
    {
      "cell_type": "markdown",
      "metadata": {
        "id": "o7zGfy9WHgtn"
      },
      "source": [
        "## <font color='blue'>8. Saving notebooks</font>\n",
        "\n",
        "After you are done with experimenting, the next thing that comes is saving the notebooks. You can save the notebook using any of the following ways: \n",
        "### <font color='blue'>8.1. Google Drive\n",
        " of the account you are using in a folder named Colab notebooks. Just go to file and click on Save. It will be saved automatically to the drive. If you want to save a notebook from some other source( for example, a github repo ), you can choose Save a copy to Drive and **make sure that pop-ups are allowed**.\n",
        "![alt text](https://www.dropbox.com/s/friudvm9lvde2bf/save_in_google_drive.png?dl=1)\n",
        "\n",
        "### <font color='blue'>8.2. As a gist on Github\n",
        "![alt text](https://www.dropbox.com/s/k1gbv1o7l155738/gist_save.png?dl=1)\n",
        "\n",
        "### <font color='blue'>8.3. On Github itself - Select the Github option. \n",
        "![alt text](https://www.dropbox.com/s/s5ge0gnlksc2qwa/git_save.png?dl=1)\n",
        "It will ask you for allowing colab to write to your github account (You would also get an email from github informing you about this). Also, it will ask you which repo you want to save the notebook to. You should choose accordingly.\n",
        "![alt text](https://www.dropbox.com/s/5gnmbj4n0uqyaat/git_save_2.png?dl=1)\n",
        "![alt text](https://www.dropbox.com/s/23hrmoxier601ue/bigvision_git_save.PNG?dl=1)\n",
        "\n"
      ]
    },
    {
      "cell_type": "markdown",
      "metadata": {
        "id": "QN1TUx6GolrK"
      },
      "source": [
        "## <font color='blue'>9. Uploading files</font>\n",
        "What is the use of so much power if you can't work with large datasets. Uploading files to use with Colab is the tricky part. There are 3 ways of uploading your data to Colab. \n",
        "\n",
        "1. From your local system\n",
        "2. Using Google Drive\n",
        "3. Using Github / Gitlab"
      ]
    },
    {
      "cell_type": "markdown",
      "metadata": {
        "id": "nE-0tqPAo0JJ"
      },
      "source": [
        "### <font color='blue'>9.1. Upload / Download from local system</font>\n",
        "On the left side of the browser, you will see an arrow as shown below\n",
        "\n",
        "<img src=\"https://www.dropbox.com/s/76pa40dgyovpbyd/colab-file-arrow.png?dl=1\">\n",
        "\n",
        "You can click on the arrow to expand the side pane. It should show you the different file upload options.\n",
        "\n",
        "<img src=\"https://www.dropbox.com/s/0zp6w3aind2ooa6/colab-files-display.png?dl=1\">\n",
        "\n",
        "You can use the upload button to upload files from your local system."
      ]
    },
    {
      "cell_type": "markdown",
      "metadata": {
        "id": "BBdvESW4qjLm"
      },
      "source": [
        "<font color='red'>**Note:**</font> The recommended way would be to create a zip file of the required data and upload the zip file. After it is uploaded to colab, you can unzip it and start using it."
      ]
    },
    {
      "cell_type": "markdown",
      "metadata": {
        "id": "Ml9pypMVtIsW"
      },
      "source": [
        "### <font color='blue'>9.2. Upload from Google drive (Recommended)</font>\n",
        "There is a Google Drive button shown in the figure above. You can link your Google drive with the colab account and load data from the drive to save models / notebooks to the drive.  \n",
        "\n",
        "It is very helpful while saving your trained models since you don't have to worry about explicitly saving them.\n"
      ]
    },
    {
      "cell_type": "code",
      "execution_count": null,
      "metadata": {
        "colab": {
          "base_uri": "https://localhost:8080/",
          "height": 122
        },
        "id": "qlC3fyHTBsAm",
        "outputId": "97566294-84b0-412c-bb2a-f47fa6698b38"
      },
      "outputs": [
        {
          "name": "stdout",
          "output_type": "stream",
          "text": [
            "Go to this URL in a browser: https://accounts.google.com/o/oauth2/auth?client_id=947318989803-6bn6qk8qdgf4n4g3pfee6491hc0brc4i.apps.googleusercontent.com&redirect_uri=urn%3aietf%3awg%3aoauth%3a2.0%3aoob&response_type=code&scope=email%20https%3a%2f%2fwww.googleapis.com%2fauth%2fdocs.test%20https%3a%2f%2fwww.googleapis.com%2fauth%2fdrive%20https%3a%2f%2fwww.googleapis.com%2fauth%2fdrive.photos.readonly%20https%3a%2f%2fwww.googleapis.com%2fauth%2fpeopleapi.readonly\n",
            "\n",
            "Enter your authorization code:\n",
            "··········\n",
            "Mounted at /content/gdrive\n"
          ]
        }
      ],
      "source": [
        "# Loads the drive library and mounts your Google drive as a network mapped drive for the Google Colab Virtual Machine.\n",
        "from google.colab import drive\n",
        "drive.mount('/content/gdrive')"
      ]
    },
    {
      "cell_type": "markdown",
      "metadata": {
        "id": "3JU4n2f8CE3R"
      },
      "source": [
        "Check if the drive was mounted or not?"
      ]
    },
    {
      "cell_type": "code",
      "execution_count": null,
      "metadata": {
        "colab": {
          "base_uri": "https://localhost:8080/",
          "height": 34
        },
        "id": "KwA0XBxvB2ue",
        "outputId": "8ddccab2-b730-4e8f-a073-7f96a0abcb71"
      },
      "outputs": [
        {
          "name": "stdout",
          "output_type": "stream",
          "text": [
            "'My Drive'\n"
          ]
        }
      ],
      "source": [
        "!ls /content/gdrive/"
      ]
    },
    {
      "cell_type": "markdown",
      "metadata": {
        "id": "s0hcU8gWCVKB"
      },
      "source": [
        "We will use this approach in the next week when we use Colab for Object Detection"
      ]
    },
    {
      "cell_type": "markdown",
      "metadata": {
        "id": "1GZPvYG9to1O"
      },
      "source": [
        "### <font color='blue'>9.3. Upload from Github / Gitlab</font>\n",
        "This is another hassle free approach among the known ways to upload data to Colab. Upload all the data/code to a github repo and clone it in the Colab environment, just like you would do in your own system. \n",
        "\n",
        "For doing this, Search for the Github Repo and find the notebook you want to work on. Once you open the notebook, clone the repo using `!git clone` and then change the working directory to where the notebook is located in the Repo.\n",
        "\n",
        "**NOTE :** Remember that you are working in an environment which is Python3 and GPU. Always make sure that the new notebooks you open are in the same environment. Otherwise, it will create a new runtime environment and you will have to install / clone everything again.\n",
        "\n",
        "Let us understand using a concrete example. We will clone [Learnopencv](https://github.com/spmallick/learnopencv) repository. Don't worry, it would use the google backend and will be superfast!\n",
        "\n",
        "<font color='red'>**NOTE:**</font> If you clone it in the google drive folder, it will take a long time. Try it for yourself!\n",
        "\n",
        "Suppose we want to work on the [Imagenet Classification example](https://github.com/spmallick/learnopencv/tree/master/Keras-ImageNet-Models) in the Learnopencv repository. Follow the steps below : \n",
        "\n",
        "1. Go to File -> Open Notebook. You should see a similar screen as shown below.\n",
        "![alt text](https://www.dropbox.com/s/n1fi5a9bzep8y0u/open_notebook_from_github.PNG?dl=1)\n",
        "\n",
        "2. Click the Github Tab and search for the github repo, https://github.com/spmallick/learnopencv.git in our case. Press Enter to see the list of notebooks available in the repo.\n",
        "![alt text](https://www.dropbox.com/s/7ihj1gsgcq919wb/2.PNG?dl=1)\n",
        "\n",
        "3. Select the notebook **Keras-Imagenet-models/pretrained-imagenet-models-classification.ipynb**\n",
        "![alt text](https://www.dropbox.com/s/5g2wz4l9a0wzal1/3.png?dl=1)\n",
        "\n",
        "4. Note that the notebook is running in Colab environment and not in your github repo folder. So, clone the github repo and change the working directory to the folder Keras-ImageNet-Models (since this is the directory in the original repo where the Notebook resides.) This is required since the data paths in the notebook would be relative to the current directory of the notebook.\n",
        "\n",
        "Create a new code cell at the beginning of the notebook and run the following:\n",
        "```\n",
        "!git clone https://github.com/spmallick/learnopencv.git\n",
        "!ls\n",
        "```\n",
        "![alt text](https://www.dropbox.com/s/q5irv43munscuoq/notebook_clone_cmd.PNG?dl=1)\n",
        "\n",
        "<font color='red'>Note:</font> It might ask you for your consent to run the notebook from Github. Run it if you trust us!\n",
        "\n",
        "![alt text](https://www.dropbox.com/s/tud0b2vpwv2hffw/git_notebook_warning.PNG?dl=1)\n",
        "\n",
        "You should be able to see the learnopencv folder created along with the default folder.\n",
        "\n",
        "![alt text](https://www.dropbox.com/s/1uvaouljz9hifr3/notebook_clone_git.PNG?dl=1)\n",
        "\n",
        "Create another code cell and run the following to change the current directory.\n",
        "```\n",
        "import os\n",
        "os.chdir(\"./learnopencv/Keras-ImageNet-Models/\")\n",
        "!ls\n",
        "```\n",
        "![alt text](https://www.dropbox.com/s/thy93u6qvwa0473/notebook_chdir.PNG?dl=1)\n",
        "\n",
        "5. Now you can run the code cells in the notebook as if you are working on your own system.\n"
      ]
    },
    {
      "cell_type": "markdown",
      "metadata": {
        "id": "JY2PJPJkbECx"
      },
      "source": [
        "## <font color='blue'>10. Recap</font>\n",
        "\n",
        "In this chapter we learnt the following: \n",
        "1. How to open a new notebook and a notebook from GitHub\n",
        "2. How to save a notebook to Drive or Github\n",
        "3. How to install new libraries ( python or system )\n",
        "4. How to upload data on Colab\n",
        "5. How to clone any github repo and use it on Colab\n",
        "\n",
        "In the next unit we will discuss how to use Caffe models for Inference and also discuss how to train Caffe Models on Colab."
      ]
    },
    {
      "cell_type": "code",
      "execution_count": null,
      "metadata": {
        "id": "D0lWWk-cGuz3"
      },
      "outputs": [],
      "source": [
        ""
      ]
    }
  ],
  "metadata": {
    "accelerator": "GPU",
    "colab": {
      "name": "Introduction_to_colab.ipynb",
      "provenance": [],
      "toc_visible": true,
      "include_colab_link": true
    },
    "kernelspec": {
      "display_name": "Python 3",
      "language": "python",
      "name": "python3"
    },
    "language_info": {
      "codemirror_mode": {
        "name": "ipython",
        "version": 3
      },
      "file_extension": ".py",
      "mimetype": "text/x-python",
      "name": "python",
      "nbconvert_exporter": "python",
      "pygments_lexer": "ipython3",
      "version": "3.7.5"
    }
  },
  "nbformat": 4,
  "nbformat_minor": 0
}